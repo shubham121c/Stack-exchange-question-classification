{
  "nbformat": 4,
  "nbformat_minor": 0,
  "metadata": {
    "colab": {
      "provenance": []
    },
    "kernelspec": {
      "name": "python3",
      "display_name": "Python 3"
    },
    "language_info": {
      "name": "python"
    }
  },
  "cells": [
    {
      "cell_type": "markdown",
      "source": [
        "Stack exchange question classification project - shubham chavan- shubham121c@gmail-9742124002"
      ],
      "metadata": {
        "id": "N-WPzyEt8eZ5"
      }
    },
    {
      "cell_type": "markdown",
      "source": [
        "parsing the xml file "
      ],
      "metadata": {
        "id": "Dgs8Q6Au95Hn"
      }
    },
    {
      "cell_type": "code",
      "execution_count": null,
      "metadata": {
        "id": "urjRiTNSsjXU"
      },
      "outputs": [],
      "source": [
        "import xml.etree.ElementTree as ET\n",
        "import csv\n",
        "tree = ET.parse('/content/drive/MyDrive/Posts.xml')\n",
        "root = tree.getroot()"
      ]
    },
    {
      "cell_type": "code",
      "source": [
        "root.tag\n"
      ],
      "metadata": {
        "colab": {
          "base_uri": "https://localhost:8080/",
          "height": 35
        },
        "id": "9hp-pkr1jAN5",
        "outputId": "c2af4f0a-565b-47f4-ea49-8a78ca2ba9a3"
      },
      "execution_count": null,
      "outputs": [
        {
          "output_type": "execute_result",
          "data": {
            "text/plain": [
              "'posts'"
            ],
            "application/vnd.google.colaboratory.intrinsic+json": {
              "type": "string"
            }
          },
          "metadata": {},
          "execution_count": 2
        }
      ]
    },
    {
      "cell_type": "markdown",
      "source": [
        "reading the xml file and storing the data as pandas dataframe"
      ],
      "metadata": {
        "id": "EXiIbA4-9-Xq"
      }
    },
    {
      "cell_type": "code",
      "source": [
        "import xml.etree.ElementTree as ET\n",
        "csvfile = open(\"data.csv\",'w',encoding='utf-8')\n",
        "csvfile_writer = csv.writer(csvfile)\n",
        "csvfile_writer.writerow([\"Id\",\"PostTypeId\",\"AcceptedAnswerId\",\"CreationDate\",\"Score\",\"ViewCount\",\"Body\",\"OwnerUserId\",\"LastEditorUserId\",\"LastEditDate\",\"LastActivityDate\",\"Title\",\"Tags\",\"AnswerCount\",\"CommentCount\",\"FavoriteCount\"])\n",
        "\n",
        "\n",
        "\n",
        "# Parse the XML string\n",
        "#xml_string = '<?xml version=\"1.0\" encoding=\"utf-8\"?><posts><row Id=\"1\" PostTypeId=\"1\" AcceptedAnswerId=\"5\" CreationDate=\"2010-11-02T18:59:01.140\" Score=\"76\" ViewCount=\"13803\" Body=\"&lt;p&gt;I often hear about subatomic particles having a property called &quot;spin&quot; but also that it doesnt actually relate to spinning about an axis like you would think. Which particles have spin? What does spin mean if not an actual spinning motion?&lt;/p&gt;&#xA;\"  />  <row Id=\"2\" PostTypeId=\"1\" AcceptedAnswerId=\"5704\" CreationDate=\"2010-11-02T19:09:48.680\" Score=\"29\" ViewCount=\"2641\" Body=\"&lt;p&gt;How would you explain string theory to non physicists such as myself? Im specially interested on how plausible is it and what is needed to successfully prove it?&lt;/p&gt;&#xA;\" OwnerUserId=\"23\" LastEditorUserId=\"2451\" LastEditDate=\"2018-12-17T16:03:14.737\" LastActivityDate=\"2018-12-17T16:03:14.737\" Title=\"What is your simplest explanation of the string theory?\" Tags=\"&lt;string-theory&gt;&lt;education&gt;\" AnswerCount=\"4\" CommentCount=\"4\" FavoriteCount=\"8\" /></posts>'\n",
        "#root = ET.fromstring(xml_string)\n",
        "root = ET.parse('/content/drive/MyDrive/Posts.xml')\n",
        "\n",
        "\n",
        "\n",
        "# Access data from the parsed XML\n",
        "for row in root.findall('.//row'):\n",
        "    Id = row.get('Id')\n",
        "    PostTypeId = row.get('PostTypeId')\n",
        "    AcceptedAnswerId = row.get('AcceptedAnswerId')\n",
        "    CreationDate = row.get('CreationDate')\n",
        "    Score = row.get('Score')\n",
        "    ViewCount = row.get('ViewCount')\n",
        "    Body= row.get('Body')\n",
        "    OwnerUserId = row.get('OwnerUserId')\n",
        "    LastEditorUserId= row.get('LastEditorUserId')\n",
        "    LastEditDate    = row.get('LastEditDate')\n",
        "    LastActivityDate    = row.get('LastActivityDate')\n",
        "    Title    = row.get('Title')\n",
        "    Tags    = row.get('Tags')\n",
        "    AnswerCount    = row.get('AnswerCount')\n",
        "    CommentCount    = row.get('CommentCount')\n",
        "    FavoriteCount    = row.get('FavoriteCount')\n",
        "    \n",
        "    #print(f'Row ID: {id}')\n",
        "    #print(f'PostTypeId: {PostTypeId}')\n",
        "    csv_line = [Id, PostTypeId, AcceptedAnswerId, CreationDate, Score, ViewCount, Body, OwnerUserId, LastEditorUserId, LastEditDate, LastActivityDate, Title, Tags, AnswerCount, CommentCount, FavoriteCount]\n",
        "    csvfile_writer.writerow(csv_line)\n",
        "csvfile.close()  "
      ],
      "metadata": {
        "id": "6wtaBMyCwlsQ"
      },
      "execution_count": null,
      "outputs": []
    },
    {
      "cell_type": "markdown",
      "source": [
        "printing the dataframe"
      ],
      "metadata": {
        "id": "SfOpa1nD-I0j"
      }
    },
    {
      "cell_type": "code",
      "source": [
        "import numpy as np\n",
        "import pandas as pd\n",
        "import matplotlib.pyplot as plt\n",
        "import matplotlib as mp\n",
        "\n",
        "df = pd.read_csv('/content/data.csv')\n",
        "df.head()"
      ],
      "metadata": {
        "colab": {
          "base_uri": "https://localhost:8080/",
          "height": 634
        },
        "id": "AfVtTpGjytYK",
        "outputId": "a00a2b61-3175-4d37-f770-f9034a0f443d"
      },
      "execution_count": null,
      "outputs": [
        {
          "output_type": "execute_result",
          "data": {
            "text/plain": [
              "   Id  PostTypeId  AcceptedAnswerId             CreationDate  Score  \\\n",
              "0   1           1               5.0  2010-11-02T18:59:01.140     76   \n",
              "1   2           1            5704.0  2010-11-02T19:09:48.680     29   \n",
              "2   3           1             180.0  2010-11-02T19:11:05.857     35   \n",
              "3   4           2               NaN  2010-11-02T19:12:26.543     22   \n",
              "4   5           2               NaN  2010-11-02T19:15:20.813     48   \n",
              "\n",
              "   ViewCount                                               Body  OwnerUserId  \\\n",
              "0    13803.0  <p>I often hear about subatomic particles havi...          7.0   \n",
              "1     2641.0  <p>How would you explain string theory to non ...         23.0   \n",
              "2     2412.0  <p>This is a question that has been posted at ...         40.0   \n",
              "3        NaN  <p>Imagine going to the rest frame of a massiv...         20.0   \n",
              "4        NaN  <p>Spin is a technical term specifically refer...         13.0   \n",
              "\n",
              "   LastEditorUserId             LastEditDate         LastActivityDate  \\\n",
              "0             520.0  2012-08-19T23:00:18.417  2018-04-29T07:55:39.087   \n",
              "1            2451.0  2018-12-17T16:03:14.737  2018-12-17T16:03:14.737   \n",
              "2            2451.0  2013-01-28T22:30:52.200  2013-03-09T16:47:46.040   \n",
              "3               NaN                      NaN  2010-11-02T19:12:26.543   \n",
              "4           75633.0  2017-12-13T08:24:54.477  2017-12-13T08:24:54.477   \n",
              "\n",
              "                                               Title  \\\n",
              "0  What is spin as it relates to subatomic partic...   \n",
              "1  What is your simplest explanation of the strin...   \n",
              "2   Lie theory, Representations and particle physics   \n",
              "3                                                NaN   \n",
              "4                                                NaN   \n",
              "\n",
              "                                                Tags  AnswerCount  \\\n",
              "0  <quantum-mechanics><particle-physics><angular-...          5.0   \n",
              "1                         <string-theory><education>          4.0   \n",
              "2  <particle-physics><group-theory><representatio...          3.0   \n",
              "3                                                NaN          NaN   \n",
              "4                                                NaN          NaN   \n",
              "\n",
              "   CommentCount  FavoriteCount  \n",
              "0             5           27.0  \n",
              "1             4            8.0  \n",
              "2             5           13.0  \n",
              "3             3            NaN  \n",
              "4             0            NaN  "
            ],
            "text/html": [
              "\n",
              "  <div id=\"df-a2080a83-5450-4ac4-a1b1-d310e0e6455e\">\n",
              "    <div class=\"colab-df-container\">\n",
              "      <div>\n",
              "<style scoped>\n",
              "    .dataframe tbody tr th:only-of-type {\n",
              "        vertical-align: middle;\n",
              "    }\n",
              "\n",
              "    .dataframe tbody tr th {\n",
              "        vertical-align: top;\n",
              "    }\n",
              "\n",
              "    .dataframe thead th {\n",
              "        text-align: right;\n",
              "    }\n",
              "</style>\n",
              "<table border=\"1\" class=\"dataframe\">\n",
              "  <thead>\n",
              "    <tr style=\"text-align: right;\">\n",
              "      <th></th>\n",
              "      <th>Id</th>\n",
              "      <th>PostTypeId</th>\n",
              "      <th>AcceptedAnswerId</th>\n",
              "      <th>CreationDate</th>\n",
              "      <th>Score</th>\n",
              "      <th>ViewCount</th>\n",
              "      <th>Body</th>\n",
              "      <th>OwnerUserId</th>\n",
              "      <th>LastEditorUserId</th>\n",
              "      <th>LastEditDate</th>\n",
              "      <th>LastActivityDate</th>\n",
              "      <th>Title</th>\n",
              "      <th>Tags</th>\n",
              "      <th>AnswerCount</th>\n",
              "      <th>CommentCount</th>\n",
              "      <th>FavoriteCount</th>\n",
              "    </tr>\n",
              "  </thead>\n",
              "  <tbody>\n",
              "    <tr>\n",
              "      <th>0</th>\n",
              "      <td>1</td>\n",
              "      <td>1</td>\n",
              "      <td>5.0</td>\n",
              "      <td>2010-11-02T18:59:01.140</td>\n",
              "      <td>76</td>\n",
              "      <td>13803.0</td>\n",
              "      <td>&lt;p&gt;I often hear about subatomic particles havi...</td>\n",
              "      <td>7.0</td>\n",
              "      <td>520.0</td>\n",
              "      <td>2012-08-19T23:00:18.417</td>\n",
              "      <td>2018-04-29T07:55:39.087</td>\n",
              "      <td>What is spin as it relates to subatomic partic...</td>\n",
              "      <td>&lt;quantum-mechanics&gt;&lt;particle-physics&gt;&lt;angular-...</td>\n",
              "      <td>5.0</td>\n",
              "      <td>5</td>\n",
              "      <td>27.0</td>\n",
              "    </tr>\n",
              "    <tr>\n",
              "      <th>1</th>\n",
              "      <td>2</td>\n",
              "      <td>1</td>\n",
              "      <td>5704.0</td>\n",
              "      <td>2010-11-02T19:09:48.680</td>\n",
              "      <td>29</td>\n",
              "      <td>2641.0</td>\n",
              "      <td>&lt;p&gt;How would you explain string theory to non ...</td>\n",
              "      <td>23.0</td>\n",
              "      <td>2451.0</td>\n",
              "      <td>2018-12-17T16:03:14.737</td>\n",
              "      <td>2018-12-17T16:03:14.737</td>\n",
              "      <td>What is your simplest explanation of the strin...</td>\n",
              "      <td>&lt;string-theory&gt;&lt;education&gt;</td>\n",
              "      <td>4.0</td>\n",
              "      <td>4</td>\n",
              "      <td>8.0</td>\n",
              "    </tr>\n",
              "    <tr>\n",
              "      <th>2</th>\n",
              "      <td>3</td>\n",
              "      <td>1</td>\n",
              "      <td>180.0</td>\n",
              "      <td>2010-11-02T19:11:05.857</td>\n",
              "      <td>35</td>\n",
              "      <td>2412.0</td>\n",
              "      <td>&lt;p&gt;This is a question that has been posted at ...</td>\n",
              "      <td>40.0</td>\n",
              "      <td>2451.0</td>\n",
              "      <td>2013-01-28T22:30:52.200</td>\n",
              "      <td>2013-03-09T16:47:46.040</td>\n",
              "      <td>Lie theory, Representations and particle physics</td>\n",
              "      <td>&lt;particle-physics&gt;&lt;group-theory&gt;&lt;representatio...</td>\n",
              "      <td>3.0</td>\n",
              "      <td>5</td>\n",
              "      <td>13.0</td>\n",
              "    </tr>\n",
              "    <tr>\n",
              "      <th>3</th>\n",
              "      <td>4</td>\n",
              "      <td>2</td>\n",
              "      <td>NaN</td>\n",
              "      <td>2010-11-02T19:12:26.543</td>\n",
              "      <td>22</td>\n",
              "      <td>NaN</td>\n",
              "      <td>&lt;p&gt;Imagine going to the rest frame of a massiv...</td>\n",
              "      <td>20.0</td>\n",
              "      <td>NaN</td>\n",
              "      <td>NaN</td>\n",
              "      <td>2010-11-02T19:12:26.543</td>\n",
              "      <td>NaN</td>\n",
              "      <td>NaN</td>\n",
              "      <td>NaN</td>\n",
              "      <td>3</td>\n",
              "      <td>NaN</td>\n",
              "    </tr>\n",
              "    <tr>\n",
              "      <th>4</th>\n",
              "      <td>5</td>\n",
              "      <td>2</td>\n",
              "      <td>NaN</td>\n",
              "      <td>2010-11-02T19:15:20.813</td>\n",
              "      <td>48</td>\n",
              "      <td>NaN</td>\n",
              "      <td>&lt;p&gt;Spin is a technical term specifically refer...</td>\n",
              "      <td>13.0</td>\n",
              "      <td>75633.0</td>\n",
              "      <td>2017-12-13T08:24:54.477</td>\n",
              "      <td>2017-12-13T08:24:54.477</td>\n",
              "      <td>NaN</td>\n",
              "      <td>NaN</td>\n",
              "      <td>NaN</td>\n",
              "      <td>0</td>\n",
              "      <td>NaN</td>\n",
              "    </tr>\n",
              "  </tbody>\n",
              "</table>\n",
              "</div>\n",
              "      <button class=\"colab-df-convert\" onclick=\"convertToInteractive('df-a2080a83-5450-4ac4-a1b1-d310e0e6455e')\"\n",
              "              title=\"Convert this dataframe to an interactive table.\"\n",
              "              style=\"display:none;\">\n",
              "        \n",
              "  <svg xmlns=\"http://www.w3.org/2000/svg\" height=\"24px\"viewBox=\"0 0 24 24\"\n",
              "       width=\"24px\">\n",
              "    <path d=\"M0 0h24v24H0V0z\" fill=\"none\"/>\n",
              "    <path d=\"M18.56 5.44l.94 2.06.94-2.06 2.06-.94-2.06-.94-.94-2.06-.94 2.06-2.06.94zm-11 1L8.5 8.5l.94-2.06 2.06-.94-2.06-.94L8.5 2.5l-.94 2.06-2.06.94zm10 10l.94 2.06.94-2.06 2.06-.94-2.06-.94-.94-2.06-.94 2.06-2.06.94z\"/><path d=\"M17.41 7.96l-1.37-1.37c-.4-.4-.92-.59-1.43-.59-.52 0-1.04.2-1.43.59L10.3 9.45l-7.72 7.72c-.78.78-.78 2.05 0 2.83L4 21.41c.39.39.9.59 1.41.59.51 0 1.02-.2 1.41-.59l7.78-7.78 2.81-2.81c.8-.78.8-2.07 0-2.86zM5.41 20L4 18.59l7.72-7.72 1.47 1.35L5.41 20z\"/>\n",
              "  </svg>\n",
              "      </button>\n",
              "      \n",
              "  <style>\n",
              "    .colab-df-container {\n",
              "      display:flex;\n",
              "      flex-wrap:wrap;\n",
              "      gap: 12px;\n",
              "    }\n",
              "\n",
              "    .colab-df-convert {\n",
              "      background-color: #E8F0FE;\n",
              "      border: none;\n",
              "      border-radius: 50%;\n",
              "      cursor: pointer;\n",
              "      display: none;\n",
              "      fill: #1967D2;\n",
              "      height: 32px;\n",
              "      padding: 0 0 0 0;\n",
              "      width: 32px;\n",
              "    }\n",
              "\n",
              "    .colab-df-convert:hover {\n",
              "      background-color: #E2EBFA;\n",
              "      box-shadow: 0px 1px 2px rgba(60, 64, 67, 0.3), 0px 1px 3px 1px rgba(60, 64, 67, 0.15);\n",
              "      fill: #174EA6;\n",
              "    }\n",
              "\n",
              "    [theme=dark] .colab-df-convert {\n",
              "      background-color: #3B4455;\n",
              "      fill: #D2E3FC;\n",
              "    }\n",
              "\n",
              "    [theme=dark] .colab-df-convert:hover {\n",
              "      background-color: #434B5C;\n",
              "      box-shadow: 0px 1px 3px 1px rgba(0, 0, 0, 0.15);\n",
              "      filter: drop-shadow(0px 1px 2px rgba(0, 0, 0, 0.3));\n",
              "      fill: #FFFFFF;\n",
              "    }\n",
              "  </style>\n",
              "\n",
              "      <script>\n",
              "        const buttonEl =\n",
              "          document.querySelector('#df-a2080a83-5450-4ac4-a1b1-d310e0e6455e button.colab-df-convert');\n",
              "        buttonEl.style.display =\n",
              "          google.colab.kernel.accessAllowed ? 'block' : 'none';\n",
              "\n",
              "        async function convertToInteractive(key) {\n",
              "          const element = document.querySelector('#df-a2080a83-5450-4ac4-a1b1-d310e0e6455e');\n",
              "          const dataTable =\n",
              "            await google.colab.kernel.invokeFunction('convertToInteractive',\n",
              "                                                     [key], {});\n",
              "          if (!dataTable) return;\n",
              "\n",
              "          const docLinkHtml = 'Like what you see? Visit the ' +\n",
              "            '<a target=\"_blank\" href=https://colab.research.google.com/notebooks/data_table.ipynb>data table notebook</a>'\n",
              "            + ' to learn more about interactive tables.';\n",
              "          element.innerHTML = '';\n",
              "          dataTable['output_type'] = 'display_data';\n",
              "          await google.colab.output.renderOutput(dataTable, element);\n",
              "          const docLink = document.createElement('div');\n",
              "          docLink.innerHTML = docLinkHtml;\n",
              "          element.appendChild(docLink);\n",
              "        }\n",
              "      </script>\n",
              "    </div>\n",
              "  </div>\n",
              "  "
            ]
          },
          "metadata": {},
          "execution_count": 7
        }
      ]
    },
    {
      "cell_type": "code",
      "source": [
        "df.shape"
      ],
      "metadata": {
        "colab": {
          "base_uri": "https://localhost:8080/"
        },
        "id": "8a-iIfOb9Gcm",
        "outputId": "95b64096-0e80-4b1d-b1f1-5df1facd23e8"
      },
      "execution_count": null,
      "outputs": [
        {
          "output_type": "execute_result",
          "data": {
            "text/plain": [
              "(345199, 16)"
            ]
          },
          "metadata": {},
          "execution_count": 9
        }
      ]
    },
    {
      "cell_type": "code",
      "source": [
        "import xml.etree.ElementTree as ET\n",
        "csvfile = open(\"data2.csv\",'w',encoding='utf-8')\n",
        "csvfile_writer = csv.writer(csvfile)\n",
        "csvfile_writer.writerow([\"Id\",\"PostTypeId\",\"AcceptedAnswerId\",\"CreationDate\",\"Score\",\"ViewCount\",\"Body\",\"OwnerUserId\",\"LastEditorUserId\",\"LastEditDate\",\"LastActivityDate\",\"Title\",\"Tags\",\"AnswerCount\",\"CommentCount\",\"FavoriteCount\"])\n",
        "\n",
        "\n",
        "\n",
        "# Parse the XML string\n",
        "#xml_string = '<?xml version=\"1.0\" encoding=\"utf-8\"?><posts><row Id=\"1\" PostTypeId=\"1\" AcceptedAnswerId=\"5\" CreationDate=\"2010-11-02T18:59:01.140\" Score=\"76\" ViewCount=\"13803\" Body=\"&lt;p&gt;I often hear about subatomic particles having a property called &quot;spin&quot; but also that it doesnt actually relate to spinning about an axis like you would think. Which particles have spin? What does spin mean if not an actual spinning motion?&lt;/p&gt;&#xA;\"  />  <row Id=\"2\" PostTypeId=\"1\" AcceptedAnswerId=\"5704\" CreationDate=\"2010-11-02T19:09:48.680\" Score=\"29\" ViewCount=\"2641\" Body=\"&lt;p&gt;How would you explain string theory to non physicists such as myself? Im specially interested on how plausible is it and what is needed to successfully prove it?&lt;/p&gt;&#xA;\" OwnerUserId=\"23\" LastEditorUserId=\"2451\" LastEditDate=\"2018-12-17T16:03:14.737\" LastActivityDate=\"2018-12-17T16:03:14.737\" Title=\"What is your simplest explanation of the string theory?\" Tags=\"&lt;string-theory&gt;&lt;education&gt;\" AnswerCount=\"4\" CommentCount=\"4\" FavoriteCount=\"8\" /></posts>'\n",
        "#root = ET.fromstring(xml_string)\n",
        "root = ET.parse('/content/drive/MyDrive/Posts.xml')\n",
        "\n",
        "\n",
        "\n",
        "# Access data from the parsed XML\n",
        "for row in root.findall('.//row'):\n",
        "  if row.get('PostTypeId')=='1':\n",
        "    Id = row.get('Id')\n",
        "    PostTypeId = row.get('PostTypeId')\n",
        "    AcceptedAnswerId = row.get('AcceptedAnswerId')\n",
        "    CreationDate = row.get('CreationDate')\n",
        "    Score = row.get('Score')\n",
        "    ViewCount = row.get('ViewCount')\n",
        "    Body= row.get('Body')\n",
        "    OwnerUserId = row.get('OwnerUserId')\n",
        "    LastEditorUserId= row.get('LastEditorUserId')\n",
        "    LastEditDate    = row.get('LastEditDate')\n",
        "    LastActivityDate    = row.get('LastActivityDate')\n",
        "    Title    = row.get('Title')\n",
        "    Tags    = row.get('Tags')\n",
        "    AnswerCount    = row.get('AnswerCount')\n",
        "    CommentCount    = row.get('CommentCount')\n",
        "    FavoriteCount    = row.get('FavoriteCount')\n",
        "    \n",
        "    #print(f'Row ID: {id}')\n",
        "    #print(f'PostTypeId: {PostTypeId}')\n",
        "    csv_line = [Id, PostTypeId, AcceptedAnswerId, CreationDate, Score, ViewCount, Body, OwnerUserId, LastEditorUserId, LastEditDate, LastActivityDate, Title, Tags, AnswerCount, CommentCount, FavoriteCount]\n",
        "    csvfile_writer.writerow(csv_line)\n",
        "csvfile.close()  "
      ],
      "metadata": {
        "id": "rEEbaVWX-8m7"
      },
      "execution_count": null,
      "outputs": []
    },
    {
      "cell_type": "code",
      "source": [
        "import numpy as np\n",
        "import pandas as pd\n",
        "import matplotlib.pyplot as plt\n",
        "import matplotlib as mp\n",
        "\n",
        "df2 = pd.read_csv('/content/data2.csv')\n",
        "df2.head()"
      ],
      "metadata": {
        "colab": {
          "base_uri": "https://localhost:8080/",
          "height": 582
        },
        "id": "GR4vX23A_dme",
        "outputId": "d701aaff-9707-498f-b8cc-0cddb8d3e0fb"
      },
      "execution_count": null,
      "outputs": [
        {
          "output_type": "execute_result",
          "data": {
            "text/plain": [
              "   Id  PostTypeId  AcceptedAnswerId             CreationDate  Score  \\\n",
              "0   1           1               5.0  2010-11-02T18:59:01.140     76   \n",
              "1   2           1            5704.0  2010-11-02T19:09:48.680     29   \n",
              "2   3           1             180.0  2010-11-02T19:11:05.857     35   \n",
              "3   7           1              46.0  2010-11-02T19:26:38.137     10   \n",
              "4   9           1               NaN  2010-11-02T19:28:09.013     48   \n",
              "\n",
              "   ViewCount                                               Body  OwnerUserId  \\\n",
              "0      13803  <p>I often hear about subatomic particles havi...          7.0   \n",
              "1       2641  <p>How would you explain string theory to non ...         23.0   \n",
              "2       2412  <p>This is a question that has been posted at ...         40.0   \n",
              "3       2033  <p>What are the main problems that we need to ...         23.0   \n",
              "4       9277  <p>Hamilton's principle states that a dynamic ...         48.0   \n",
              "\n",
              "   LastEditorUserId             LastEditDate         LastActivityDate  \\\n",
              "0             520.0  2012-08-19T23:00:18.417  2018-04-29T07:55:39.087   \n",
              "1            2451.0  2018-12-17T16:03:14.737  2018-12-17T16:03:14.737   \n",
              "2            2451.0  2013-01-28T22:30:52.200  2013-03-09T16:47:46.040   \n",
              "3            2451.0  2012-11-04T17:28:11.530  2012-11-04T17:28:11.530   \n",
              "4          131821.0  2017-02-02T04:12:00.443  2019-05-26T17:06:48.333   \n",
              "\n",
              "                                               Title  \\\n",
              "0  What is spin as it relates to subatomic partic...   \n",
              "1  What is your simplest explanation of the strin...   \n",
              "2   Lie theory, Representations and particle physics   \n",
              "3                 Will Determinism be ever possible?   \n",
              "4                               Hamilton's Principle   \n",
              "\n",
              "                                                Tags  AnswerCount  \\\n",
              "0  <quantum-mechanics><particle-physics><angular-...            5   \n",
              "1                         <string-theory><education>            4   \n",
              "2  <particle-physics><group-theory><representatio...            3   \n",
              "3  <quantum-mechanics><quantum-interpretations><h...            6   \n",
              "4  <lagrangian-formalism><variational-principle><...            6   \n",
              "\n",
              "   CommentCount  FavoriteCount  \n",
              "0             5           27.0  \n",
              "1             4            8.0  \n",
              "2             5           13.0  \n",
              "3             5            5.0  \n",
              "4             2           32.0  "
            ],
            "text/html": [
              "\n",
              "  <div id=\"df-bb2077f4-21b8-4421-9929-e31529711d95\">\n",
              "    <div class=\"colab-df-container\">\n",
              "      <div>\n",
              "<style scoped>\n",
              "    .dataframe tbody tr th:only-of-type {\n",
              "        vertical-align: middle;\n",
              "    }\n",
              "\n",
              "    .dataframe tbody tr th {\n",
              "        vertical-align: top;\n",
              "    }\n",
              "\n",
              "    .dataframe thead th {\n",
              "        text-align: right;\n",
              "    }\n",
              "</style>\n",
              "<table border=\"1\" class=\"dataframe\">\n",
              "  <thead>\n",
              "    <tr style=\"text-align: right;\">\n",
              "      <th></th>\n",
              "      <th>Id</th>\n",
              "      <th>PostTypeId</th>\n",
              "      <th>AcceptedAnswerId</th>\n",
              "      <th>CreationDate</th>\n",
              "      <th>Score</th>\n",
              "      <th>ViewCount</th>\n",
              "      <th>Body</th>\n",
              "      <th>OwnerUserId</th>\n",
              "      <th>LastEditorUserId</th>\n",
              "      <th>LastEditDate</th>\n",
              "      <th>LastActivityDate</th>\n",
              "      <th>Title</th>\n",
              "      <th>Tags</th>\n",
              "      <th>AnswerCount</th>\n",
              "      <th>CommentCount</th>\n",
              "      <th>FavoriteCount</th>\n",
              "    </tr>\n",
              "  </thead>\n",
              "  <tbody>\n",
              "    <tr>\n",
              "      <th>0</th>\n",
              "      <td>1</td>\n",
              "      <td>1</td>\n",
              "      <td>5.0</td>\n",
              "      <td>2010-11-02T18:59:01.140</td>\n",
              "      <td>76</td>\n",
              "      <td>13803</td>\n",
              "      <td>&lt;p&gt;I often hear about subatomic particles havi...</td>\n",
              "      <td>7.0</td>\n",
              "      <td>520.0</td>\n",
              "      <td>2012-08-19T23:00:18.417</td>\n",
              "      <td>2018-04-29T07:55:39.087</td>\n",
              "      <td>What is spin as it relates to subatomic partic...</td>\n",
              "      <td>&lt;quantum-mechanics&gt;&lt;particle-physics&gt;&lt;angular-...</td>\n",
              "      <td>5</td>\n",
              "      <td>5</td>\n",
              "      <td>27.0</td>\n",
              "    </tr>\n",
              "    <tr>\n",
              "      <th>1</th>\n",
              "      <td>2</td>\n",
              "      <td>1</td>\n",
              "      <td>5704.0</td>\n",
              "      <td>2010-11-02T19:09:48.680</td>\n",
              "      <td>29</td>\n",
              "      <td>2641</td>\n",
              "      <td>&lt;p&gt;How would you explain string theory to non ...</td>\n",
              "      <td>23.0</td>\n",
              "      <td>2451.0</td>\n",
              "      <td>2018-12-17T16:03:14.737</td>\n",
              "      <td>2018-12-17T16:03:14.737</td>\n",
              "      <td>What is your simplest explanation of the strin...</td>\n",
              "      <td>&lt;string-theory&gt;&lt;education&gt;</td>\n",
              "      <td>4</td>\n",
              "      <td>4</td>\n",
              "      <td>8.0</td>\n",
              "    </tr>\n",
              "    <tr>\n",
              "      <th>2</th>\n",
              "      <td>3</td>\n",
              "      <td>1</td>\n",
              "      <td>180.0</td>\n",
              "      <td>2010-11-02T19:11:05.857</td>\n",
              "      <td>35</td>\n",
              "      <td>2412</td>\n",
              "      <td>&lt;p&gt;This is a question that has been posted at ...</td>\n",
              "      <td>40.0</td>\n",
              "      <td>2451.0</td>\n",
              "      <td>2013-01-28T22:30:52.200</td>\n",
              "      <td>2013-03-09T16:47:46.040</td>\n",
              "      <td>Lie theory, Representations and particle physics</td>\n",
              "      <td>&lt;particle-physics&gt;&lt;group-theory&gt;&lt;representatio...</td>\n",
              "      <td>3</td>\n",
              "      <td>5</td>\n",
              "      <td>13.0</td>\n",
              "    </tr>\n",
              "    <tr>\n",
              "      <th>3</th>\n",
              "      <td>7</td>\n",
              "      <td>1</td>\n",
              "      <td>46.0</td>\n",
              "      <td>2010-11-02T19:26:38.137</td>\n",
              "      <td>10</td>\n",
              "      <td>2033</td>\n",
              "      <td>&lt;p&gt;What are the main problems that we need to ...</td>\n",
              "      <td>23.0</td>\n",
              "      <td>2451.0</td>\n",
              "      <td>2012-11-04T17:28:11.530</td>\n",
              "      <td>2012-11-04T17:28:11.530</td>\n",
              "      <td>Will Determinism be ever possible?</td>\n",
              "      <td>&lt;quantum-mechanics&gt;&lt;quantum-interpretations&gt;&lt;h...</td>\n",
              "      <td>6</td>\n",
              "      <td>5</td>\n",
              "      <td>5.0</td>\n",
              "    </tr>\n",
              "    <tr>\n",
              "      <th>4</th>\n",
              "      <td>9</td>\n",
              "      <td>1</td>\n",
              "      <td>NaN</td>\n",
              "      <td>2010-11-02T19:28:09.013</td>\n",
              "      <td>48</td>\n",
              "      <td>9277</td>\n",
              "      <td>&lt;p&gt;Hamilton's principle states that a dynamic ...</td>\n",
              "      <td>48.0</td>\n",
              "      <td>131821.0</td>\n",
              "      <td>2017-02-02T04:12:00.443</td>\n",
              "      <td>2019-05-26T17:06:48.333</td>\n",
              "      <td>Hamilton's Principle</td>\n",
              "      <td>&lt;lagrangian-formalism&gt;&lt;variational-principle&gt;&lt;...</td>\n",
              "      <td>6</td>\n",
              "      <td>2</td>\n",
              "      <td>32.0</td>\n",
              "    </tr>\n",
              "  </tbody>\n",
              "</table>\n",
              "</div>\n",
              "      <button class=\"colab-df-convert\" onclick=\"convertToInteractive('df-bb2077f4-21b8-4421-9929-e31529711d95')\"\n",
              "              title=\"Convert this dataframe to an interactive table.\"\n",
              "              style=\"display:none;\">\n",
              "        \n",
              "  <svg xmlns=\"http://www.w3.org/2000/svg\" height=\"24px\"viewBox=\"0 0 24 24\"\n",
              "       width=\"24px\">\n",
              "    <path d=\"M0 0h24v24H0V0z\" fill=\"none\"/>\n",
              "    <path d=\"M18.56 5.44l.94 2.06.94-2.06 2.06-.94-2.06-.94-.94-2.06-.94 2.06-2.06.94zm-11 1L8.5 8.5l.94-2.06 2.06-.94-2.06-.94L8.5 2.5l-.94 2.06-2.06.94zm10 10l.94 2.06.94-2.06 2.06-.94-2.06-.94-.94-2.06-.94 2.06-2.06.94z\"/><path d=\"M17.41 7.96l-1.37-1.37c-.4-.4-.92-.59-1.43-.59-.52 0-1.04.2-1.43.59L10.3 9.45l-7.72 7.72c-.78.78-.78 2.05 0 2.83L4 21.41c.39.39.9.59 1.41.59.51 0 1.02-.2 1.41-.59l7.78-7.78 2.81-2.81c.8-.78.8-2.07 0-2.86zM5.41 20L4 18.59l7.72-7.72 1.47 1.35L5.41 20z\"/>\n",
              "  </svg>\n",
              "      </button>\n",
              "      \n",
              "  <style>\n",
              "    .colab-df-container {\n",
              "      display:flex;\n",
              "      flex-wrap:wrap;\n",
              "      gap: 12px;\n",
              "    }\n",
              "\n",
              "    .colab-df-convert {\n",
              "      background-color: #E8F0FE;\n",
              "      border: none;\n",
              "      border-radius: 50%;\n",
              "      cursor: pointer;\n",
              "      display: none;\n",
              "      fill: #1967D2;\n",
              "      height: 32px;\n",
              "      padding: 0 0 0 0;\n",
              "      width: 32px;\n",
              "    }\n",
              "\n",
              "    .colab-df-convert:hover {\n",
              "      background-color: #E2EBFA;\n",
              "      box-shadow: 0px 1px 2px rgba(60, 64, 67, 0.3), 0px 1px 3px 1px rgba(60, 64, 67, 0.15);\n",
              "      fill: #174EA6;\n",
              "    }\n",
              "\n",
              "    [theme=dark] .colab-df-convert {\n",
              "      background-color: #3B4455;\n",
              "      fill: #D2E3FC;\n",
              "    }\n",
              "\n",
              "    [theme=dark] .colab-df-convert:hover {\n",
              "      background-color: #434B5C;\n",
              "      box-shadow: 0px 1px 3px 1px rgba(0, 0, 0, 0.15);\n",
              "      filter: drop-shadow(0px 1px 2px rgba(0, 0, 0, 0.3));\n",
              "      fill: #FFFFFF;\n",
              "    }\n",
              "  </style>\n",
              "\n",
              "      <script>\n",
              "        const buttonEl =\n",
              "          document.querySelector('#df-bb2077f4-21b8-4421-9929-e31529711d95 button.colab-df-convert');\n",
              "        buttonEl.style.display =\n",
              "          google.colab.kernel.accessAllowed ? 'block' : 'none';\n",
              "\n",
              "        async function convertToInteractive(key) {\n",
              "          const element = document.querySelector('#df-bb2077f4-21b8-4421-9929-e31529711d95');\n",
              "          const dataTable =\n",
              "            await google.colab.kernel.invokeFunction('convertToInteractive',\n",
              "                                                     [key], {});\n",
              "          if (!dataTable) return;\n",
              "\n",
              "          const docLinkHtml = 'Like what you see? Visit the ' +\n",
              "            '<a target=\"_blank\" href=https://colab.research.google.com/notebooks/data_table.ipynb>data table notebook</a>'\n",
              "            + ' to learn more about interactive tables.';\n",
              "          element.innerHTML = '';\n",
              "          dataTable['output_type'] = 'display_data';\n",
              "          await google.colab.output.renderOutput(dataTable, element);\n",
              "          const docLink = document.createElement('div');\n",
              "          docLink.innerHTML = docLinkHtml;\n",
              "          element.appendChild(docLink);\n",
              "        }\n",
              "      </script>\n",
              "    </div>\n",
              "  </div>\n",
              "  "
            ]
          },
          "metadata": {},
          "execution_count": 4
        }
      ]
    },
    {
      "cell_type": "code",
      "source": [
        "df2.shape"
      ],
      "metadata": {
        "colab": {
          "base_uri": "https://localhost:8080/"
        },
        "id": "_b140ZvsAw96",
        "outputId": "acd3827a-1f23-4c55-a16e-86b740cce6c8"
      },
      "execution_count": null,
      "outputs": [
        {
          "output_type": "execute_result",
          "data": {
            "text/plain": [
              "(138710, 15)"
            ]
          },
          "metadata": {},
          "execution_count": 6
        }
      ]
    },
    {
      "cell_type": "code",
      "source": [
        "df2=df2.drop('PostTypeId',axis=1)\n"
      ],
      "metadata": {
        "id": "zwfTRzY863bX"
      },
      "execution_count": null,
      "outputs": []
    },
    {
      "cell_type": "code",
      "source": [
        "df2=df2.drop('CreationDate',axis=1)\n",
        "df2=df2.drop('LastEditDate',axis=1)\n",
        "df2=df2.drop('LastActivityDate',axis=1)\n",
        "\n"
      ],
      "metadata": {
        "id": "1Cc2VZSf8Dfi"
      },
      "execution_count": null,
      "outputs": []
    },
    {
      "cell_type": "markdown",
      "source": [
        "dropping unwanted columns"
      ],
      "metadata": {
        "id": "wQYS8Gwf-g_Z"
      }
    },
    {
      "cell_type": "code",
      "source": [
        "df2.head()"
      ],
      "metadata": {
        "colab": {
          "base_uri": "https://localhost:8080/",
          "height": 582
        },
        "id": "lyAZZcnB7TBB",
        "outputId": "98f7467c-75a4-4412-c683-ac6d8a62aa86"
      },
      "execution_count": null,
      "outputs": [
        {
          "output_type": "execute_result",
          "data": {
            "text/plain": [
              "   Id  AcceptedAnswerId  Score  ViewCount  \\\n",
              "0   1               5.0     76      13803   \n",
              "1   2            5704.0     29       2641   \n",
              "2   3             180.0     35       2412   \n",
              "3   7              46.0     10       2033   \n",
              "4   9               NaN     48       9277   \n",
              "\n",
              "                                                Body  OwnerUserId  \\\n",
              "0  <p>I often hear about subatomic particles havi...          7.0   \n",
              "1  <p>How would you explain string theory to non ...         23.0   \n",
              "2  <p>This is a question that has been posted at ...         40.0   \n",
              "3  <p>What are the main problems that we need to ...         23.0   \n",
              "4  <p>Hamilton's principle states that a dynamic ...         48.0   \n",
              "\n",
              "   LastEditorUserId                                              Title  \\\n",
              "0             520.0  What is spin as it relates to subatomic partic...   \n",
              "1            2451.0  What is your simplest explanation of the strin...   \n",
              "2            2451.0   Lie theory, Representations and particle physics   \n",
              "3            2451.0                 Will Determinism be ever possible?   \n",
              "4          131821.0                               Hamilton's Principle   \n",
              "\n",
              "                                                Tags  AnswerCount  \\\n",
              "0  <quantum-mechanics><particle-physics><angular-...            5   \n",
              "1                         <string-theory><education>            4   \n",
              "2  <particle-physics><group-theory><representatio...            3   \n",
              "3  <quantum-mechanics><quantum-interpretations><h...            6   \n",
              "4  <lagrangian-formalism><variational-principle><...            6   \n",
              "\n",
              "   CommentCount  FavoriteCount  \n",
              "0             5           27.0  \n",
              "1             4            8.0  \n",
              "2             5           13.0  \n",
              "3             5            5.0  \n",
              "4             2           32.0  "
            ],
            "text/html": [
              "\n",
              "  <div id=\"df-c640d963-b599-464e-b8f1-56df1b19968d\">\n",
              "    <div class=\"colab-df-container\">\n",
              "      <div>\n",
              "<style scoped>\n",
              "    .dataframe tbody tr th:only-of-type {\n",
              "        vertical-align: middle;\n",
              "    }\n",
              "\n",
              "    .dataframe tbody tr th {\n",
              "        vertical-align: top;\n",
              "    }\n",
              "\n",
              "    .dataframe thead th {\n",
              "        text-align: right;\n",
              "    }\n",
              "</style>\n",
              "<table border=\"1\" class=\"dataframe\">\n",
              "  <thead>\n",
              "    <tr style=\"text-align: right;\">\n",
              "      <th></th>\n",
              "      <th>Id</th>\n",
              "      <th>AcceptedAnswerId</th>\n",
              "      <th>Score</th>\n",
              "      <th>ViewCount</th>\n",
              "      <th>Body</th>\n",
              "      <th>OwnerUserId</th>\n",
              "      <th>LastEditorUserId</th>\n",
              "      <th>Title</th>\n",
              "      <th>Tags</th>\n",
              "      <th>AnswerCount</th>\n",
              "      <th>CommentCount</th>\n",
              "      <th>FavoriteCount</th>\n",
              "    </tr>\n",
              "  </thead>\n",
              "  <tbody>\n",
              "    <tr>\n",
              "      <th>0</th>\n",
              "      <td>1</td>\n",
              "      <td>5.0</td>\n",
              "      <td>76</td>\n",
              "      <td>13803</td>\n",
              "      <td>&lt;p&gt;I often hear about subatomic particles havi...</td>\n",
              "      <td>7.0</td>\n",
              "      <td>520.0</td>\n",
              "      <td>What is spin as it relates to subatomic partic...</td>\n",
              "      <td>&lt;quantum-mechanics&gt;&lt;particle-physics&gt;&lt;angular-...</td>\n",
              "      <td>5</td>\n",
              "      <td>5</td>\n",
              "      <td>27.0</td>\n",
              "    </tr>\n",
              "    <tr>\n",
              "      <th>1</th>\n",
              "      <td>2</td>\n",
              "      <td>5704.0</td>\n",
              "      <td>29</td>\n",
              "      <td>2641</td>\n",
              "      <td>&lt;p&gt;How would you explain string theory to non ...</td>\n",
              "      <td>23.0</td>\n",
              "      <td>2451.0</td>\n",
              "      <td>What is your simplest explanation of the strin...</td>\n",
              "      <td>&lt;string-theory&gt;&lt;education&gt;</td>\n",
              "      <td>4</td>\n",
              "      <td>4</td>\n",
              "      <td>8.0</td>\n",
              "    </tr>\n",
              "    <tr>\n",
              "      <th>2</th>\n",
              "      <td>3</td>\n",
              "      <td>180.0</td>\n",
              "      <td>35</td>\n",
              "      <td>2412</td>\n",
              "      <td>&lt;p&gt;This is a question that has been posted at ...</td>\n",
              "      <td>40.0</td>\n",
              "      <td>2451.0</td>\n",
              "      <td>Lie theory, Representations and particle physics</td>\n",
              "      <td>&lt;particle-physics&gt;&lt;group-theory&gt;&lt;representatio...</td>\n",
              "      <td>3</td>\n",
              "      <td>5</td>\n",
              "      <td>13.0</td>\n",
              "    </tr>\n",
              "    <tr>\n",
              "      <th>3</th>\n",
              "      <td>7</td>\n",
              "      <td>46.0</td>\n",
              "      <td>10</td>\n",
              "      <td>2033</td>\n",
              "      <td>&lt;p&gt;What are the main problems that we need to ...</td>\n",
              "      <td>23.0</td>\n",
              "      <td>2451.0</td>\n",
              "      <td>Will Determinism be ever possible?</td>\n",
              "      <td>&lt;quantum-mechanics&gt;&lt;quantum-interpretations&gt;&lt;h...</td>\n",
              "      <td>6</td>\n",
              "      <td>5</td>\n",
              "      <td>5.0</td>\n",
              "    </tr>\n",
              "    <tr>\n",
              "      <th>4</th>\n",
              "      <td>9</td>\n",
              "      <td>NaN</td>\n",
              "      <td>48</td>\n",
              "      <td>9277</td>\n",
              "      <td>&lt;p&gt;Hamilton's principle states that a dynamic ...</td>\n",
              "      <td>48.0</td>\n",
              "      <td>131821.0</td>\n",
              "      <td>Hamilton's Principle</td>\n",
              "      <td>&lt;lagrangian-formalism&gt;&lt;variational-principle&gt;&lt;...</td>\n",
              "      <td>6</td>\n",
              "      <td>2</td>\n",
              "      <td>32.0</td>\n",
              "    </tr>\n",
              "  </tbody>\n",
              "</table>\n",
              "</div>\n",
              "      <button class=\"colab-df-convert\" onclick=\"convertToInteractive('df-c640d963-b599-464e-b8f1-56df1b19968d')\"\n",
              "              title=\"Convert this dataframe to an interactive table.\"\n",
              "              style=\"display:none;\">\n",
              "        \n",
              "  <svg xmlns=\"http://www.w3.org/2000/svg\" height=\"24px\"viewBox=\"0 0 24 24\"\n",
              "       width=\"24px\">\n",
              "    <path d=\"M0 0h24v24H0V0z\" fill=\"none\"/>\n",
              "    <path d=\"M18.56 5.44l.94 2.06.94-2.06 2.06-.94-2.06-.94-.94-2.06-.94 2.06-2.06.94zm-11 1L8.5 8.5l.94-2.06 2.06-.94-2.06-.94L8.5 2.5l-.94 2.06-2.06.94zm10 10l.94 2.06.94-2.06 2.06-.94-2.06-.94-.94-2.06-.94 2.06-2.06.94z\"/><path d=\"M17.41 7.96l-1.37-1.37c-.4-.4-.92-.59-1.43-.59-.52 0-1.04.2-1.43.59L10.3 9.45l-7.72 7.72c-.78.78-.78 2.05 0 2.83L4 21.41c.39.39.9.59 1.41.59.51 0 1.02-.2 1.41-.59l7.78-7.78 2.81-2.81c.8-.78.8-2.07 0-2.86zM5.41 20L4 18.59l7.72-7.72 1.47 1.35L5.41 20z\"/>\n",
              "  </svg>\n",
              "      </button>\n",
              "      \n",
              "  <style>\n",
              "    .colab-df-container {\n",
              "      display:flex;\n",
              "      flex-wrap:wrap;\n",
              "      gap: 12px;\n",
              "    }\n",
              "\n",
              "    .colab-df-convert {\n",
              "      background-color: #E8F0FE;\n",
              "      border: none;\n",
              "      border-radius: 50%;\n",
              "      cursor: pointer;\n",
              "      display: none;\n",
              "      fill: #1967D2;\n",
              "      height: 32px;\n",
              "      padding: 0 0 0 0;\n",
              "      width: 32px;\n",
              "    }\n",
              "\n",
              "    .colab-df-convert:hover {\n",
              "      background-color: #E2EBFA;\n",
              "      box-shadow: 0px 1px 2px rgba(60, 64, 67, 0.3), 0px 1px 3px 1px rgba(60, 64, 67, 0.15);\n",
              "      fill: #174EA6;\n",
              "    }\n",
              "\n",
              "    [theme=dark] .colab-df-convert {\n",
              "      background-color: #3B4455;\n",
              "      fill: #D2E3FC;\n",
              "    }\n",
              "\n",
              "    [theme=dark] .colab-df-convert:hover {\n",
              "      background-color: #434B5C;\n",
              "      box-shadow: 0px 1px 3px 1px rgba(0, 0, 0, 0.15);\n",
              "      filter: drop-shadow(0px 1px 2px rgba(0, 0, 0, 0.3));\n",
              "      fill: #FFFFFF;\n",
              "    }\n",
              "  </style>\n",
              "\n",
              "      <script>\n",
              "        const buttonEl =\n",
              "          document.querySelector('#df-c640d963-b599-464e-b8f1-56df1b19968d button.colab-df-convert');\n",
              "        buttonEl.style.display =\n",
              "          google.colab.kernel.accessAllowed ? 'block' : 'none';\n",
              "\n",
              "        async function convertToInteractive(key) {\n",
              "          const element = document.querySelector('#df-c640d963-b599-464e-b8f1-56df1b19968d');\n",
              "          const dataTable =\n",
              "            await google.colab.kernel.invokeFunction('convertToInteractive',\n",
              "                                                     [key], {});\n",
              "          if (!dataTable) return;\n",
              "\n",
              "          const docLinkHtml = 'Like what you see? Visit the ' +\n",
              "            '<a target=\"_blank\" href=https://colab.research.google.com/notebooks/data_table.ipynb>data table notebook</a>'\n",
              "            + ' to learn more about interactive tables.';\n",
              "          element.innerHTML = '';\n",
              "          dataTable['output_type'] = 'display_data';\n",
              "          await google.colab.output.renderOutput(dataTable, element);\n",
              "          const docLink = document.createElement('div');\n",
              "          docLink.innerHTML = docLinkHtml;\n",
              "          element.appendChild(docLink);\n",
              "        }\n",
              "      </script>\n",
              "    </div>\n",
              "  </div>\n",
              "  "
            ]
          },
          "metadata": {},
          "execution_count": 14
        }
      ]
    },
    {
      "cell_type": "code",
      "source": [
        "print(df2['AcceptedAnswerId'].unique())\n",
        "print(df2['OwnerUserId'].unique())\n",
        "print(df2['Score'].unique())\n",
        "print(df2['LastEditorUserId'].unique())\n"
      ],
      "metadata": {
        "colab": {
          "base_uri": "https://localhost:8080/"
        },
        "id": "yf_-WECLCh1l",
        "outputId": "7c43f58a-e8c2-4cd6-d79c-492d64043367"
      },
      "execution_count": null,
      "outputs": [
        {
          "output_type": "stream",
          "name": "stdout",
          "text": [
            "[5.00000e+00 5.70400e+03 1.80000e+02 ... 4.83696e+05 4.83716e+05\n",
            " 4.83712e+05]\n",
            "[7.00000e+00 2.30000e+01 4.00000e+01 ... 2.33518e+05 2.33523e+05\n",
            " 2.33524e+05]\n",
            "[ 76  29  35  10  48  12 266  42   6  16   7  46   8  21  22   9  28  20\n",
            "   4  26  14  18  13  70  11   5  27  32  24   1  19   0  15  44   3  93\n",
            "  33  37  31  17 239   2  -2  54  52  25  90  23 110  89  92  75  56  58\n",
            " 212  40  41  -3  98  78  30  -8 378  53  36  96  68  -1  47  59  66  91\n",
            " 134 151 104 154  49 111  50  38  63  64  82  55  34 228  97  43  45 682\n",
            " 124  60  84  -4  87 308  79 117  -7  73  61 112  67 131 -24  -5 315 109\n",
            "  39 142  88  -6  74 -11  65 148  51 114 101  69  77 119  72 108 122 120\n",
            " -13 115  57 103  86 129 -10 197 156  99 170 105 100 106 -12 267 126 152\n",
            " 149  85 396 -16 187 428 162 165 270  -9  71  83  95  62 233 277 123 199\n",
            " 139  81 169 -15 198 140  80 138 143 166 264 116 121 195 235 145 147 176]\n",
            "[   520.   2451. 131821. ... 233497. 233103. 166754.]\n"
          ]
        }
      ]
    },
    {
      "cell_type": "code",
      "source": [
        "df2.dtypes\n"
      ],
      "metadata": {
        "colab": {
          "base_uri": "https://localhost:8080/"
        },
        "id": "2ucH_vtz_c9k",
        "outputId": "01d7f545-402d-4aea-de19-6fb1d7a3f6a6"
      },
      "execution_count": null,
      "outputs": [
        {
          "output_type": "execute_result",
          "data": {
            "text/plain": [
              "Id                    int64\n",
              "AcceptedAnswerId    float64\n",
              "Score                 int64\n",
              "ViewCount             int64\n",
              "Body                 object\n",
              "OwnerUserId         float64\n",
              "LastEditorUserId    float64\n",
              "Title                object\n",
              "Tags                 object\n",
              "AnswerCount           int64\n",
              "CommentCount          int64\n",
              "FavoriteCount       float64\n",
              "dtype: object"
            ]
          },
          "metadata": {},
          "execution_count": 16
        }
      ]
    },
    {
      "cell_type": "code",
      "source": [
        "df2.isnull().sum()"
      ],
      "metadata": {
        "colab": {
          "base_uri": "https://localhost:8080/"
        },
        "id": "5xcaJ991_la7",
        "outputId": "ee8793b6-64c7-49cb-a910-7cd6e03ff9d7"
      },
      "execution_count": null,
      "outputs": [
        {
          "output_type": "execute_result",
          "data": {
            "text/plain": [
              "Id                      0\n",
              "AcceptedAnswerId    78659\n",
              "Score                   0\n",
              "ViewCount               0\n",
              "Body                    0\n",
              "OwnerUserId          4348\n",
              "LastEditorUserId    45956\n",
              "Title                   0\n",
              "Tags                    0\n",
              "AnswerCount             0\n",
              "CommentCount            0\n",
              "FavoriteCount       80434\n",
              "dtype: int64"
            ]
          },
          "metadata": {},
          "execution_count": 17
        }
      ]
    },
    {
      "cell_type": "markdown",
      "source": [
        "removing columns with max null values"
      ],
      "metadata": {
        "id": "NSyp7pS3BLJW"
      }
    },
    {
      "cell_type": "code",
      "source": [
        "df2=df2.drop('AcceptedAnswerId',axis=1)\n",
        "df2=df2.drop('LastEditorUserId',axis=1)\n",
        "df2=df2.drop('FavoriteCount',axis=1)\n"
      ],
      "metadata": {
        "id": "MdQyilXWAzpr"
      },
      "execution_count": null,
      "outputs": []
    },
    {
      "cell_type": "code",
      "source": [
        "df2.head()"
      ],
      "metadata": {
        "colab": {
          "base_uri": "https://localhost:8080/",
          "height": 527
        },
        "id": "T1w8gaUEBVko",
        "outputId": "7472c035-3af3-4736-b101-36f7246f7902"
      },
      "execution_count": null,
      "outputs": [
        {
          "output_type": "execute_result",
          "data": {
            "text/plain": [
              "   Id  Score  ViewCount                                               Body  \\\n",
              "0   1     76      13803  <p>I often hear about subatomic particles havi...   \n",
              "1   2     29       2641  <p>How would you explain string theory to non ...   \n",
              "2   3     35       2412  <p>This is a question that has been posted at ...   \n",
              "3   7     10       2033  <p>What are the main problems that we need to ...   \n",
              "4   9     48       9277  <p>Hamilton's principle states that a dynamic ...   \n",
              "\n",
              "   OwnerUserId                                              Title  \\\n",
              "0          7.0  What is spin as it relates to subatomic partic...   \n",
              "1         23.0  What is your simplest explanation of the strin...   \n",
              "2         40.0   Lie theory, Representations and particle physics   \n",
              "3         23.0                 Will Determinism be ever possible?   \n",
              "4         48.0                               Hamilton's Principle   \n",
              "\n",
              "                                                Tags  AnswerCount  \\\n",
              "0  <quantum-mechanics><particle-physics><angular-...            5   \n",
              "1                         <string-theory><education>            4   \n",
              "2  <particle-physics><group-theory><representatio...            3   \n",
              "3  <quantum-mechanics><quantum-interpretations><h...            6   \n",
              "4  <lagrangian-formalism><variational-principle><...            6   \n",
              "\n",
              "   CommentCount  \n",
              "0             5  \n",
              "1             4  \n",
              "2             5  \n",
              "3             5  \n",
              "4             2  "
            ],
            "text/html": [
              "\n",
              "  <div id=\"df-8b4eead6-b96e-4207-a922-18bbaa152e03\">\n",
              "    <div class=\"colab-df-container\">\n",
              "      <div>\n",
              "<style scoped>\n",
              "    .dataframe tbody tr th:only-of-type {\n",
              "        vertical-align: middle;\n",
              "    }\n",
              "\n",
              "    .dataframe tbody tr th {\n",
              "        vertical-align: top;\n",
              "    }\n",
              "\n",
              "    .dataframe thead th {\n",
              "        text-align: right;\n",
              "    }\n",
              "</style>\n",
              "<table border=\"1\" class=\"dataframe\">\n",
              "  <thead>\n",
              "    <tr style=\"text-align: right;\">\n",
              "      <th></th>\n",
              "      <th>Id</th>\n",
              "      <th>Score</th>\n",
              "      <th>ViewCount</th>\n",
              "      <th>Body</th>\n",
              "      <th>OwnerUserId</th>\n",
              "      <th>Title</th>\n",
              "      <th>Tags</th>\n",
              "      <th>AnswerCount</th>\n",
              "      <th>CommentCount</th>\n",
              "    </tr>\n",
              "  </thead>\n",
              "  <tbody>\n",
              "    <tr>\n",
              "      <th>0</th>\n",
              "      <td>1</td>\n",
              "      <td>76</td>\n",
              "      <td>13803</td>\n",
              "      <td>&lt;p&gt;I often hear about subatomic particles havi...</td>\n",
              "      <td>7.0</td>\n",
              "      <td>What is spin as it relates to subatomic partic...</td>\n",
              "      <td>&lt;quantum-mechanics&gt;&lt;particle-physics&gt;&lt;angular-...</td>\n",
              "      <td>5</td>\n",
              "      <td>5</td>\n",
              "    </tr>\n",
              "    <tr>\n",
              "      <th>1</th>\n",
              "      <td>2</td>\n",
              "      <td>29</td>\n",
              "      <td>2641</td>\n",
              "      <td>&lt;p&gt;How would you explain string theory to non ...</td>\n",
              "      <td>23.0</td>\n",
              "      <td>What is your simplest explanation of the strin...</td>\n",
              "      <td>&lt;string-theory&gt;&lt;education&gt;</td>\n",
              "      <td>4</td>\n",
              "      <td>4</td>\n",
              "    </tr>\n",
              "    <tr>\n",
              "      <th>2</th>\n",
              "      <td>3</td>\n",
              "      <td>35</td>\n",
              "      <td>2412</td>\n",
              "      <td>&lt;p&gt;This is a question that has been posted at ...</td>\n",
              "      <td>40.0</td>\n",
              "      <td>Lie theory, Representations and particle physics</td>\n",
              "      <td>&lt;particle-physics&gt;&lt;group-theory&gt;&lt;representatio...</td>\n",
              "      <td>3</td>\n",
              "      <td>5</td>\n",
              "    </tr>\n",
              "    <tr>\n",
              "      <th>3</th>\n",
              "      <td>7</td>\n",
              "      <td>10</td>\n",
              "      <td>2033</td>\n",
              "      <td>&lt;p&gt;What are the main problems that we need to ...</td>\n",
              "      <td>23.0</td>\n",
              "      <td>Will Determinism be ever possible?</td>\n",
              "      <td>&lt;quantum-mechanics&gt;&lt;quantum-interpretations&gt;&lt;h...</td>\n",
              "      <td>6</td>\n",
              "      <td>5</td>\n",
              "    </tr>\n",
              "    <tr>\n",
              "      <th>4</th>\n",
              "      <td>9</td>\n",
              "      <td>48</td>\n",
              "      <td>9277</td>\n",
              "      <td>&lt;p&gt;Hamilton's principle states that a dynamic ...</td>\n",
              "      <td>48.0</td>\n",
              "      <td>Hamilton's Principle</td>\n",
              "      <td>&lt;lagrangian-formalism&gt;&lt;variational-principle&gt;&lt;...</td>\n",
              "      <td>6</td>\n",
              "      <td>2</td>\n",
              "    </tr>\n",
              "  </tbody>\n",
              "</table>\n",
              "</div>\n",
              "      <button class=\"colab-df-convert\" onclick=\"convertToInteractive('df-8b4eead6-b96e-4207-a922-18bbaa152e03')\"\n",
              "              title=\"Convert this dataframe to an interactive table.\"\n",
              "              style=\"display:none;\">\n",
              "        \n",
              "  <svg xmlns=\"http://www.w3.org/2000/svg\" height=\"24px\"viewBox=\"0 0 24 24\"\n",
              "       width=\"24px\">\n",
              "    <path d=\"M0 0h24v24H0V0z\" fill=\"none\"/>\n",
              "    <path d=\"M18.56 5.44l.94 2.06.94-2.06 2.06-.94-2.06-.94-.94-2.06-.94 2.06-2.06.94zm-11 1L8.5 8.5l.94-2.06 2.06-.94-2.06-.94L8.5 2.5l-.94 2.06-2.06.94zm10 10l.94 2.06.94-2.06 2.06-.94-2.06-.94-.94-2.06-.94 2.06-2.06.94z\"/><path d=\"M17.41 7.96l-1.37-1.37c-.4-.4-.92-.59-1.43-.59-.52 0-1.04.2-1.43.59L10.3 9.45l-7.72 7.72c-.78.78-.78 2.05 0 2.83L4 21.41c.39.39.9.59 1.41.59.51 0 1.02-.2 1.41-.59l7.78-7.78 2.81-2.81c.8-.78.8-2.07 0-2.86zM5.41 20L4 18.59l7.72-7.72 1.47 1.35L5.41 20z\"/>\n",
              "  </svg>\n",
              "      </button>\n",
              "      \n",
              "  <style>\n",
              "    .colab-df-container {\n",
              "      display:flex;\n",
              "      flex-wrap:wrap;\n",
              "      gap: 12px;\n",
              "    }\n",
              "\n",
              "    .colab-df-convert {\n",
              "      background-color: #E8F0FE;\n",
              "      border: none;\n",
              "      border-radius: 50%;\n",
              "      cursor: pointer;\n",
              "      display: none;\n",
              "      fill: #1967D2;\n",
              "      height: 32px;\n",
              "      padding: 0 0 0 0;\n",
              "      width: 32px;\n",
              "    }\n",
              "\n",
              "    .colab-df-convert:hover {\n",
              "      background-color: #E2EBFA;\n",
              "      box-shadow: 0px 1px 2px rgba(60, 64, 67, 0.3), 0px 1px 3px 1px rgba(60, 64, 67, 0.15);\n",
              "      fill: #174EA6;\n",
              "    }\n",
              "\n",
              "    [theme=dark] .colab-df-convert {\n",
              "      background-color: #3B4455;\n",
              "      fill: #D2E3FC;\n",
              "    }\n",
              "\n",
              "    [theme=dark] .colab-df-convert:hover {\n",
              "      background-color: #434B5C;\n",
              "      box-shadow: 0px 1px 3px 1px rgba(0, 0, 0, 0.15);\n",
              "      filter: drop-shadow(0px 1px 2px rgba(0, 0, 0, 0.3));\n",
              "      fill: #FFFFFF;\n",
              "    }\n",
              "  </style>\n",
              "\n",
              "      <script>\n",
              "        const buttonEl =\n",
              "          document.querySelector('#df-8b4eead6-b96e-4207-a922-18bbaa152e03 button.colab-df-convert');\n",
              "        buttonEl.style.display =\n",
              "          google.colab.kernel.accessAllowed ? 'block' : 'none';\n",
              "\n",
              "        async function convertToInteractive(key) {\n",
              "          const element = document.querySelector('#df-8b4eead6-b96e-4207-a922-18bbaa152e03');\n",
              "          const dataTable =\n",
              "            await google.colab.kernel.invokeFunction('convertToInteractive',\n",
              "                                                     [key], {});\n",
              "          if (!dataTable) return;\n",
              "\n",
              "          const docLinkHtml = 'Like what you see? Visit the ' +\n",
              "            '<a target=\"_blank\" href=https://colab.research.google.com/notebooks/data_table.ipynb>data table notebook</a>'\n",
              "            + ' to learn more about interactive tables.';\n",
              "          element.innerHTML = '';\n",
              "          dataTable['output_type'] = 'display_data';\n",
              "          await google.colab.output.renderOutput(dataTable, element);\n",
              "          const docLink = document.createElement('div');\n",
              "          docLink.innerHTML = docLinkHtml;\n",
              "          element.appendChild(docLink);\n",
              "        }\n",
              "      </script>\n",
              "    </div>\n",
              "  </div>\n",
              "  "
            ]
          },
          "metadata": {},
          "execution_count": 19
        }
      ]
    },
    {
      "cell_type": "markdown",
      "source": [
        "labelling the traget variable"
      ],
      "metadata": {
        "id": "1gNt-xMoBjU7"
      }
    },
    {
      "cell_type": "markdown",
      "source": [
        "1. good quality : score >5 , answer count>0\n",
        "2. Low-Quality  : score ~ 0 to 5 and answer count=0\n",
        "3. Very-low quality questions: Questions which have negative scores"
      ],
      "metadata": {
        "id": "Z9gapIr73hNv"
      }
    },
    {
      "cell_type": "markdown",
      "source": [
        "creating target column with dummy value"
      ],
      "metadata": {
        "id": "qJMSmjjPHJ-d"
      }
    },
    {
      "cell_type": "code",
      "source": [
        "df2['y'] = 1"
      ],
      "metadata": {
        "id": "ib9YeaBAFMWx"
      },
      "execution_count": null,
      "outputs": []
    },
    {
      "cell_type": "code",
      "source": [
        "for x in df2.index:\n",
        "  if (df2.loc[x, \"Score\"] > 5 and df2.loc[x, \"AnswerCount\"] > 0):\n",
        "    df2.loc[x, \"y\"] = 3"
      ],
      "metadata": {
        "id": "7PdrltPOHErK"
      },
      "execution_count": null,
      "outputs": []
    },
    {
      "cell_type": "code",
      "source": [
        "for x in df2.index:\n",
        "  if (df2.loc[x, \"Score\"] > 0 and df2.loc[x, \"Score\"] <5 and df2.loc[x, \"AnswerCount\"] == 0):\n",
        "    df2.loc[x, \"y\"] = 2"
      ],
      "metadata": {
        "id": "jsL4UdYmKDRk"
      },
      "execution_count": null,
      "outputs": []
    },
    {
      "cell_type": "code",
      "source": [
        "print(df2['y'].unique())"
      ],
      "metadata": {
        "colab": {
          "base_uri": "https://localhost:8080/"
        },
        "id": "Kzw2OtsZJ77A",
        "outputId": "52c12c58-0c5b-44a4-f1e3-50c92d2cb8b1"
      },
      "execution_count": null,
      "outputs": [
        {
          "output_type": "stream",
          "name": "stdout",
          "text": [
            "[3 1 2]\n"
          ]
        }
      ]
    },
    {
      "cell_type": "markdown",
      "source": [
        "dropping the score and answercount columns"
      ],
      "metadata": {
        "id": "ZRhXioqVOYvl"
      }
    },
    {
      "cell_type": "code",
      "source": [
        "df2=df2.drop('Score',axis=1)\n",
        "df2=df2.drop('AnswerCount',axis=1)"
      ],
      "metadata": {
        "id": "sxnZtPXQK3Tg"
      },
      "execution_count": null,
      "outputs": []
    },
    {
      "cell_type": "markdown",
      "source": [
        "creating new cloumns for body length and title length"
      ],
      "metadata": {
        "id": "plRBi87pOgY3"
      }
    },
    {
      "cell_type": "code",
      "source": [
        "df2['bodylen'] = 1"
      ],
      "metadata": {
        "id": "X43rD0MFLl_w"
      },
      "execution_count": null,
      "outputs": []
    },
    {
      "cell_type": "code",
      "source": [
        "for x in df2.index:\n",
        "  df2.loc[x, \"bodylen\"] = len(df2.loc[x, \"Body\"]) "
      ],
      "metadata": {
        "id": "taqoCQU4LkeD"
      },
      "execution_count": null,
      "outputs": []
    },
    {
      "cell_type": "code",
      "source": [
        "df2['titlelen'] = 1"
      ],
      "metadata": {
        "id": "DGQfVZnzM7CB"
      },
      "execution_count": null,
      "outputs": []
    },
    {
      "cell_type": "code",
      "source": [
        "for x in df2.index:\n",
        "  df2.loc[x, \"titlelen\"] = len(df2.loc[x, \"Title\"]) "
      ],
      "metadata": {
        "id": "uMNfYiXwNBG3"
      },
      "execution_count": null,
      "outputs": []
    },
    {
      "cell_type": "code",
      "source": [
        "print(df2['Tags'].unique())"
      ],
      "metadata": {
        "colab": {
          "base_uri": "https://localhost:8080/"
        },
        "id": "bdUs6UmQNUX7",
        "outputId": "31d26ae8-30e0-41ab-c05b-464f37e051a7"
      },
      "execution_count": null,
      "outputs": [
        {
          "output_type": "stream",
          "name": "stdout",
          "text": [
            "['<quantum-mechanics><particle-physics><angular-momentum><quantum-spin>'\n",
            " '<string-theory><education>'\n",
            " '<particle-physics><group-theory><representation-theory>' ...\n",
            " '<string-theory><metric-tensor><variational-principle>'\n",
            " '<general-relativity><differential-geometry><tensor-calculus><differentiation><stress-energy-momentum-tensor>'\n",
            " '<mass><acceleration><velocity><spring>']\n"
          ]
        }
      ]
    },
    {
      "cell_type": "code",
      "source": [
        "df2=df2.drop('Title',axis=1)\n",
        "df2=df2.drop('Body',axis=1)"
      ],
      "metadata": {
        "id": "b4L5AYJDNpam"
      },
      "execution_count": null,
      "outputs": []
    },
    {
      "cell_type": "code",
      "source": [
        "df2.shape"
      ],
      "metadata": {
        "colab": {
          "base_uri": "https://localhost:8080/"
        },
        "id": "28UgrJ-qOGXJ",
        "outputId": "bad3ffc8-80fd-4ac3-8752-af4956317aa9"
      },
      "execution_count": null,
      "outputs": [
        {
          "output_type": "execute_result",
          "data": {
            "text/plain": [
              "(138710, 8)"
            ]
          },
          "metadata": {},
          "execution_count": 31
        }
      ]
    },
    {
      "cell_type": "code",
      "source": [
        "df2.dropna(inplace = True)"
      ],
      "metadata": {
        "id": "ilgri2ZbOD9i"
      },
      "execution_count": null,
      "outputs": []
    },
    {
      "cell_type": "code",
      "source": [
        "df2.shape"
      ],
      "metadata": {
        "colab": {
          "base_uri": "https://localhost:8080/"
        },
        "id": "vrbunbpTONQX",
        "outputId": "95fb5c5a-fb8a-4015-f049-4e5ddd9d25b9"
      },
      "execution_count": null,
      "outputs": [
        {
          "output_type": "execute_result",
          "data": {
            "text/plain": [
              "(134362, 8)"
            ]
          },
          "metadata": {},
          "execution_count": 21
        }
      ]
    },
    {
      "cell_type": "code",
      "source": [
        "df2.head()"
      ],
      "metadata": {
        "colab": {
          "base_uri": "https://localhost:8080/",
          "height": 250
        },
        "id": "CbNZuAUIOrlo",
        "outputId": "1c0270b1-5a07-4f62-f578-ba40513443be"
      },
      "execution_count": null,
      "outputs": [
        {
          "output_type": "execute_result",
          "data": {
            "text/plain": [
              "   Id  ViewCount  OwnerUserId  \\\n",
              "0   1      13803          7.0   \n",
              "1   2       2641         23.0   \n",
              "2   3       2412         40.0   \n",
              "3   7       2033         23.0   \n",
              "4   9       9277         48.0   \n",
              "\n",
              "                                                Tags  CommentCount  y  \\\n",
              "0  <quantum-mechanics><particle-physics><angular-...             5  3   \n",
              "1                         <string-theory><education>             4  3   \n",
              "2  <particle-physics><group-theory><representatio...             5  3   \n",
              "3  <quantum-mechanics><quantum-interpretations><h...             5  3   \n",
              "4  <lagrangian-formalism><variational-principle><...             2  3   \n",
              "\n",
              "   bodylen  titlelen  \n",
              "0      248        50  \n",
              "1      170        55  \n",
              "2      808        48  \n",
              "3      135        34  \n",
              "4      257        20  "
            ],
            "text/html": [
              "\n",
              "  <div id=\"df-1954f27c-9c61-4a2c-bb32-d6532b667817\">\n",
              "    <div class=\"colab-df-container\">\n",
              "      <div>\n",
              "<style scoped>\n",
              "    .dataframe tbody tr th:only-of-type {\n",
              "        vertical-align: middle;\n",
              "    }\n",
              "\n",
              "    .dataframe tbody tr th {\n",
              "        vertical-align: top;\n",
              "    }\n",
              "\n",
              "    .dataframe thead th {\n",
              "        text-align: right;\n",
              "    }\n",
              "</style>\n",
              "<table border=\"1\" class=\"dataframe\">\n",
              "  <thead>\n",
              "    <tr style=\"text-align: right;\">\n",
              "      <th></th>\n",
              "      <th>Id</th>\n",
              "      <th>ViewCount</th>\n",
              "      <th>OwnerUserId</th>\n",
              "      <th>Tags</th>\n",
              "      <th>CommentCount</th>\n",
              "      <th>y</th>\n",
              "      <th>bodylen</th>\n",
              "      <th>titlelen</th>\n",
              "    </tr>\n",
              "  </thead>\n",
              "  <tbody>\n",
              "    <tr>\n",
              "      <th>0</th>\n",
              "      <td>1</td>\n",
              "      <td>13803</td>\n",
              "      <td>7.0</td>\n",
              "      <td>&lt;quantum-mechanics&gt;&lt;particle-physics&gt;&lt;angular-...</td>\n",
              "      <td>5</td>\n",
              "      <td>3</td>\n",
              "      <td>248</td>\n",
              "      <td>50</td>\n",
              "    </tr>\n",
              "    <tr>\n",
              "      <th>1</th>\n",
              "      <td>2</td>\n",
              "      <td>2641</td>\n",
              "      <td>23.0</td>\n",
              "      <td>&lt;string-theory&gt;&lt;education&gt;</td>\n",
              "      <td>4</td>\n",
              "      <td>3</td>\n",
              "      <td>170</td>\n",
              "      <td>55</td>\n",
              "    </tr>\n",
              "    <tr>\n",
              "      <th>2</th>\n",
              "      <td>3</td>\n",
              "      <td>2412</td>\n",
              "      <td>40.0</td>\n",
              "      <td>&lt;particle-physics&gt;&lt;group-theory&gt;&lt;representatio...</td>\n",
              "      <td>5</td>\n",
              "      <td>3</td>\n",
              "      <td>808</td>\n",
              "      <td>48</td>\n",
              "    </tr>\n",
              "    <tr>\n",
              "      <th>3</th>\n",
              "      <td>7</td>\n",
              "      <td>2033</td>\n",
              "      <td>23.0</td>\n",
              "      <td>&lt;quantum-mechanics&gt;&lt;quantum-interpretations&gt;&lt;h...</td>\n",
              "      <td>5</td>\n",
              "      <td>3</td>\n",
              "      <td>135</td>\n",
              "      <td>34</td>\n",
              "    </tr>\n",
              "    <tr>\n",
              "      <th>4</th>\n",
              "      <td>9</td>\n",
              "      <td>9277</td>\n",
              "      <td>48.0</td>\n",
              "      <td>&lt;lagrangian-formalism&gt;&lt;variational-principle&gt;&lt;...</td>\n",
              "      <td>2</td>\n",
              "      <td>3</td>\n",
              "      <td>257</td>\n",
              "      <td>20</td>\n",
              "    </tr>\n",
              "  </tbody>\n",
              "</table>\n",
              "</div>\n",
              "      <button class=\"colab-df-convert\" onclick=\"convertToInteractive('df-1954f27c-9c61-4a2c-bb32-d6532b667817')\"\n",
              "              title=\"Convert this dataframe to an interactive table.\"\n",
              "              style=\"display:none;\">\n",
              "        \n",
              "  <svg xmlns=\"http://www.w3.org/2000/svg\" height=\"24px\"viewBox=\"0 0 24 24\"\n",
              "       width=\"24px\">\n",
              "    <path d=\"M0 0h24v24H0V0z\" fill=\"none\"/>\n",
              "    <path d=\"M18.56 5.44l.94 2.06.94-2.06 2.06-.94-2.06-.94-.94-2.06-.94 2.06-2.06.94zm-11 1L8.5 8.5l.94-2.06 2.06-.94-2.06-.94L8.5 2.5l-.94 2.06-2.06.94zm10 10l.94 2.06.94-2.06 2.06-.94-2.06-.94-.94-2.06-.94 2.06-2.06.94z\"/><path d=\"M17.41 7.96l-1.37-1.37c-.4-.4-.92-.59-1.43-.59-.52 0-1.04.2-1.43.59L10.3 9.45l-7.72 7.72c-.78.78-.78 2.05 0 2.83L4 21.41c.39.39.9.59 1.41.59.51 0 1.02-.2 1.41-.59l7.78-7.78 2.81-2.81c.8-.78.8-2.07 0-2.86zM5.41 20L4 18.59l7.72-7.72 1.47 1.35L5.41 20z\"/>\n",
              "  </svg>\n",
              "      </button>\n",
              "      \n",
              "  <style>\n",
              "    .colab-df-container {\n",
              "      display:flex;\n",
              "      flex-wrap:wrap;\n",
              "      gap: 12px;\n",
              "    }\n",
              "\n",
              "    .colab-df-convert {\n",
              "      background-color: #E8F0FE;\n",
              "      border: none;\n",
              "      border-radius: 50%;\n",
              "      cursor: pointer;\n",
              "      display: none;\n",
              "      fill: #1967D2;\n",
              "      height: 32px;\n",
              "      padding: 0 0 0 0;\n",
              "      width: 32px;\n",
              "    }\n",
              "\n",
              "    .colab-df-convert:hover {\n",
              "      background-color: #E2EBFA;\n",
              "      box-shadow: 0px 1px 2px rgba(60, 64, 67, 0.3), 0px 1px 3px 1px rgba(60, 64, 67, 0.15);\n",
              "      fill: #174EA6;\n",
              "    }\n",
              "\n",
              "    [theme=dark] .colab-df-convert {\n",
              "      background-color: #3B4455;\n",
              "      fill: #D2E3FC;\n",
              "    }\n",
              "\n",
              "    [theme=dark] .colab-df-convert:hover {\n",
              "      background-color: #434B5C;\n",
              "      box-shadow: 0px 1px 3px 1px rgba(0, 0, 0, 0.15);\n",
              "      filter: drop-shadow(0px 1px 2px rgba(0, 0, 0, 0.3));\n",
              "      fill: #FFFFFF;\n",
              "    }\n",
              "  </style>\n",
              "\n",
              "      <script>\n",
              "        const buttonEl =\n",
              "          document.querySelector('#df-1954f27c-9c61-4a2c-bb32-d6532b667817 button.colab-df-convert');\n",
              "        buttonEl.style.display =\n",
              "          google.colab.kernel.accessAllowed ? 'block' : 'none';\n",
              "\n",
              "        async function convertToInteractive(key) {\n",
              "          const element = document.querySelector('#df-1954f27c-9c61-4a2c-bb32-d6532b667817');\n",
              "          const dataTable =\n",
              "            await google.colab.kernel.invokeFunction('convertToInteractive',\n",
              "                                                     [key], {});\n",
              "          if (!dataTable) return;\n",
              "\n",
              "          const docLinkHtml = 'Like what you see? Visit the ' +\n",
              "            '<a target=\"_blank\" href=https://colab.research.google.com/notebooks/data_table.ipynb>data table notebook</a>'\n",
              "            + ' to learn more about interactive tables.';\n",
              "          element.innerHTML = '';\n",
              "          dataTable['output_type'] = 'display_data';\n",
              "          await google.colab.output.renderOutput(dataTable, element);\n",
              "          const docLink = document.createElement('div');\n",
              "          docLink.innerHTML = docLinkHtml;\n",
              "          element.appendChild(docLink);\n",
              "        }\n",
              "      </script>\n",
              "    </div>\n",
              "  </div>\n",
              "  "
            ]
          },
          "metadata": {},
          "execution_count": 34
        }
      ]
    },
    {
      "cell_type": "code",
      "source": [
        "df2['y'].value_counts().plot(kind='barh', figsize=(8, 6))\n",
        "plt.xlabel(\"Count\", labelpad=14)\n",
        "plt.ylabel(\"y\", labelpad=14)\n",
        "plt.title(\"Count of TARGET Variable per category\", y=1.02);"
      ],
      "metadata": {
        "colab": {
          "base_uri": "https://localhost:8080/",
          "height": 587
        },
        "id": "7lHwYu9HPB5_",
        "outputId": "51029a4b-aabb-4aec-df9b-c67c95c132fe"
      },
      "execution_count": null,
      "outputs": [
        {
          "output_type": "display_data",
          "data": {
            "text/plain": [
              "<Figure size 800x600 with 1 Axes>"
            ],
            "image/png": "[encoded data removed]"
          },
          "metadata": {}
        }
      ]
    },
    {
      "cell_type": "code",
      "source": [
        "100*df2['y'].value_counts()/len(df2['y'])\n"
      ],
      "metadata": {
        "colab": {
          "base_uri": "https://localhost:8080/"
        },
        "id": "WDVjAAF4QRWt",
        "outputId": "fd60ca2e-4c00-4605-d72c-6f97985d263b"
      },
      "execution_count": null,
      "outputs": [
        {
          "output_type": "execute_result",
          "data": {
            "text/plain": [
              "1    78.445543\n",
              "3    10.823745\n",
              "2    10.730713\n",
              "Name: y, dtype: float64"
            ]
          },
          "metadata": {},
          "execution_count": 36
        }
      ]
    },
    {
      "cell_type": "code",
      "source": [
        "df2.describe()"
      ],
      "metadata": {
        "colab": {
          "base_uri": "https://localhost:8080/",
          "height": 344
        },
        "id": "knRhGE8TRRAA",
        "outputId": "a0846ce6-8802-42fa-82f2-cef729f16f19"
      },
      "execution_count": null,
      "outputs": [
        {
          "output_type": "execute_result",
          "data": {
            "text/plain": [
              "                  Id      ViewCount    OwnerUserId   CommentCount  \\\n",
              "count  134362.000000  134362.000000  134362.000000  134362.000000   \n",
              "mean   248417.618932    1303.989848   87684.383531       2.389351   \n",
              "std    140929.781224    6385.928714   65809.329025       2.871078   \n",
              "min         1.000000       3.000000       4.000000       0.000000   \n",
              "25%    127905.000000      82.000000   29169.000000       0.000000   \n",
              "50%    249702.000000     214.000000   75628.000000       2.000000   \n",
              "75%    371432.750000     705.000000  137792.000000       3.000000   \n",
              "max    483787.000000  785052.000000  233524.000000      67.000000   \n",
              "\n",
              "                   y        bodylen       titlelen  \n",
              "count  134362.000000  134362.000000  134362.000000  \n",
              "mean        1.323782     905.034318      57.119506  \n",
              "std         0.659868     838.062570      24.463666  \n",
              "min         1.000000      38.000000      15.000000  \n",
              "25%         1.000000     387.000000      39.000000  \n",
              "50%         1.000000     675.000000      53.000000  \n",
              "75%         1.000000    1145.000000      71.000000  \n",
              "max         3.000000   30528.000000     150.000000  "
            ],
            "text/html": [
              "\n",
              "  <div id=\"df-b19a3a10-8ee1-4272-b09f-88434f3eb070\">\n",
              "    <div class=\"colab-df-container\">\n",
              "      <div>\n",
              "<style scoped>\n",
              "    .dataframe tbody tr th:only-of-type {\n",
              "        vertical-align: middle;\n",
              "    }\n",
              "\n",
              "    .dataframe tbody tr th {\n",
              "        vertical-align: top;\n",
              "    }\n",
              "\n",
              "    .dataframe thead th {\n",
              "        text-align: right;\n",
              "    }\n",
              "</style>\n",
              "<table border=\"1\" class=\"dataframe\">\n",
              "  <thead>\n",
              "    <tr style=\"text-align: right;\">\n",
              "      <th></th>\n",
              "      <th>Id</th>\n",
              "      <th>ViewCount</th>\n",
              "      <th>OwnerUserId</th>\n",
              "      <th>CommentCount</th>\n",
              "      <th>y</th>\n",
              "      <th>bodylen</th>\n",
              "      <th>titlelen</th>\n",
              "    </tr>\n",
              "  </thead>\n",
              "  <tbody>\n",
              "    <tr>\n",
              "      <th>count</th>\n",
              "      <td>134362.000000</td>\n",
              "      <td>134362.000000</td>\n",
              "      <td>134362.000000</td>\n",
              "      <td>134362.000000</td>\n",
              "      <td>134362.000000</td>\n",
              "      <td>134362.000000</td>\n",
              "      <td>134362.000000</td>\n",
              "    </tr>\n",
              "    <tr>\n",
              "      <th>mean</th>\n",
              "      <td>248417.618932</td>\n",
              "      <td>1303.989848</td>\n",
              "      <td>87684.383531</td>\n",
              "      <td>2.389351</td>\n",
              "      <td>1.323782</td>\n",
              "      <td>905.034318</td>\n",
              "      <td>57.119506</td>\n",
              "    </tr>\n",
              "    <tr>\n",
              "      <th>std</th>\n",
              "      <td>140929.781224</td>\n",
              "      <td>6385.928714</td>\n",
              "      <td>65809.329025</td>\n",
              "      <td>2.871078</td>\n",
              "      <td>0.659868</td>\n",
              "      <td>838.062570</td>\n",
              "      <td>24.463666</td>\n",
              "    </tr>\n",
              "    <tr>\n",
              "      <th>min</th>\n",
              "      <td>1.000000</td>\n",
              "      <td>3.000000</td>\n",
              "      <td>4.000000</td>\n",
              "      <td>0.000000</td>\n",
              "      <td>1.000000</td>\n",
              "      <td>38.000000</td>\n",
              "      <td>15.000000</td>\n",
              "    </tr>\n",
              "    <tr>\n",
              "      <th>25%</th>\n",
              "      <td>127905.000000</td>\n",
              "      <td>82.000000</td>\n",
              "      <td>29169.000000</td>\n",
              "      <td>0.000000</td>\n",
              "      <td>1.000000</td>\n",
              "      <td>387.000000</td>\n",
              "      <td>39.000000</td>\n",
              "    </tr>\n",
              "    <tr>\n",
              "      <th>50%</th>\n",
              "      <td>249702.000000</td>\n",
              "      <td>214.000000</td>\n",
              "      <td>75628.000000</td>\n",
              "      <td>2.000000</td>\n",
              "      <td>1.000000</td>\n",
              "      <td>675.000000</td>\n",
              "      <td>53.000000</td>\n",
              "    </tr>\n",
              "    <tr>\n",
              "      <th>75%</th>\n",
              "      <td>371432.750000</td>\n",
              "      <td>705.000000</td>\n",
              "      <td>137792.000000</td>\n",
              "      <td>3.000000</td>\n",
              "      <td>1.000000</td>\n",
              "      <td>1145.000000</td>\n",
              "      <td>71.000000</td>\n",
              "    </tr>\n",
              "    <tr>\n",
              "      <th>max</th>\n",
              "      <td>483787.000000</td>\n",
              "      <td>785052.000000</td>\n",
              "      <td>233524.000000</td>\n",
              "      <td>67.000000</td>\n",
              "      <td>3.000000</td>\n",
              "      <td>30528.000000</td>\n",
              "      <td>150.000000</td>\n",
              "    </tr>\n",
              "  </tbody>\n",
              "</table>\n",
              "</div>\n",
              "      <button class=\"colab-df-convert\" onclick=\"convertToInteractive('df-b19a3a10-8ee1-4272-b09f-88434f3eb070')\"\n",
              "              title=\"Convert this dataframe to an interactive table.\"\n",
              "              style=\"display:none;\">\n",
              "        \n",
              "  <svg xmlns=\"http://www.w3.org/2000/svg\" height=\"24px\"viewBox=\"0 0 24 24\"\n",
              "       width=\"24px\">\n",
              "    <path d=\"M0 0h24v24H0V0z\" fill=\"none\"/>\n",
              "    <path d=\"M18.56 5.44l.94 2.06.94-2.06 2.06-.94-2.06-.94-.94-2.06-.94 2.06-2.06.94zm-11 1L8.5 8.5l.94-2.06 2.06-.94-2.06-.94L8.5 2.5l-.94 2.06-2.06.94zm10 10l.94 2.06.94-2.06 2.06-.94-2.06-.94-.94-2.06-.94 2.06-2.06.94z\"/><path d=\"M17.41 7.96l-1.37-1.37c-.4-.4-.92-.59-1.43-.59-.52 0-1.04.2-1.43.59L10.3 9.45l-7.72 7.72c-.78.78-.78 2.05 0 2.83L4 21.41c.39.39.9.59 1.41.59.51 0 1.02-.2 1.41-.59l7.78-7.78 2.81-2.81c.8-.78.8-2.07 0-2.86zM5.41 20L4 18.59l7.72-7.72 1.47 1.35L5.41 20z\"/>\n",
              "  </svg>\n",
              "      </button>\n",
              "      \n",
              "  <style>\n",
              "    .colab-df-container {\n",
              "      display:flex;\n",
              "      flex-wrap:wrap;\n",
              "      gap: 12px;\n",
              "    }\n",
              "\n",
              "    .colab-df-convert {\n",
              "      background-color: #E8F0FE;\n",
              "      border: none;\n",
              "      border-radius: 50%;\n",
              "      cursor: pointer;\n",
              "      display: none;\n",
              "      fill: #1967D2;\n",
              "      height: 32px;\n",
              "      padding: 0 0 0 0;\n",
              "      width: 32px;\n",
              "    }\n",
              "\n",
              "    .colab-df-convert:hover {\n",
              "      background-color: #E2EBFA;\n",
              "      box-shadow: 0px 1px 2px rgba(60, 64, 67, 0.3), 0px 1px 3px 1px rgba(60, 64, 67, 0.15);\n",
              "      fill: #174EA6;\n",
              "    }\n",
              "\n",
              "    [theme=dark] .colab-df-convert {\n",
              "      background-color: #3B4455;\n",
              "      fill: #D2E3FC;\n",
              "    }\n",
              "\n",
              "    [theme=dark] .colab-df-convert:hover {\n",
              "      background-color: #434B5C;\n",
              "      box-shadow: 0px 1px 3px 1px rgba(0, 0, 0, 0.15);\n",
              "      filter: drop-shadow(0px 1px 2px rgba(0, 0, 0, 0.3));\n",
              "      fill: #FFFFFF;\n",
              "    }\n",
              "  </style>\n",
              "\n",
              "      <script>\n",
              "        const buttonEl =\n",
              "          document.querySelector('#df-b19a3a10-8ee1-4272-b09f-88434f3eb070 button.colab-df-convert');\n",
              "        buttonEl.style.display =\n",
              "          google.colab.kernel.accessAllowed ? 'block' : 'none';\n",
              "\n",
              "        async function convertToInteractive(key) {\n",
              "          const element = document.querySelector('#df-b19a3a10-8ee1-4272-b09f-88434f3eb070');\n",
              "          const dataTable =\n",
              "            await google.colab.kernel.invokeFunction('convertToInteractive',\n",
              "                                                     [key], {});\n",
              "          if (!dataTable) return;\n",
              "\n",
              "          const docLinkHtml = 'Like what you see? Visit the ' +\n",
              "            '<a target=\"_blank\" href=https://colab.research.google.com/notebooks/data_table.ipynb>data table notebook</a>'\n",
              "            + ' to learn more about interactive tables.';\n",
              "          element.innerHTML = '';\n",
              "          dataTable['output_type'] = 'display_data';\n",
              "          await google.colab.output.renderOutput(dataTable, element);\n",
              "          const docLink = document.createElement('div');\n",
              "          docLink.innerHTML = docLinkHtml;\n",
              "          element.appendChild(docLink);\n",
              "        }\n",
              "      </script>\n",
              "    </div>\n",
              "  </div>\n",
              "  "
            ]
          },
          "metadata": {},
          "execution_count": 37
        }
      ]
    },
    {
      "cell_type": "code",
      "source": [
        "import seaborn as sns\n",
        "corr = df2.corr()\n",
        "mask = np.array(corr)\n",
        "mask[np.tril_indices_from(mask)] = False\n",
        "fig,ax= plt.subplots()\n",
        "fig.set_size_inches(20,10)\n",
        "sns.heatmap(corr, mask=mask,vmax=.9, square=True,annot=True, cmap=\"YlGnBu\")"
      ],
      "metadata": {
        "colab": {
          "base_uri": "https://localhost:8080/",
          "height": 847
        },
        "id": "HzpWkdVGSz0K",
        "outputId": "b47958bd-4135-4379-e708-43c33a3eef6e"
      },
      "execution_count": null,
      "outputs": [
        {
          "output_type": "execute_result",
          "data": {
            "text/plain": [
              "<Axes: >"
            ]
          },
          "metadata": {},
          "execution_count": 24
        },
        {
          "output_type": "display_data",
          "data": {
            "text/plain": [
              "<Figure size 2000x1000 with 2 Axes>"
            ],
            "image/png": "[encoded data removed]"
          },
          "metadata": {}
        }
      ]
    },
    {
      "cell_type": "code",
      "source": [
        "df2.corr() # correlation"
      ],
      "metadata": {
        "colab": {
          "base_uri": "https://localhost:8080/",
          "height": 269
        },
        "id": "5vwPizlgUqdf",
        "outputId": "f22e9a5f-9abd-4065-bfb9-a131bd9462f2"
      },
      "execution_count": null,
      "outputs": [
        {
          "output_type": "execute_result",
          "data": {
            "text/plain": [
              "                    Id  ViewCount  OwnerUserId  CommentCount         y  \\\n",
              "Id            1.000000  -0.175618     0.806359     -0.020936 -0.201148   \n",
              "ViewCount    -0.175618   1.000000    -0.134675      0.027796  0.192676   \n",
              "OwnerUserId   0.806359  -0.134675     1.000000     -0.026232 -0.198017   \n",
              "CommentCount -0.020936   0.027796    -0.026232      1.000000  0.114730   \n",
              "y            -0.201148   0.192676    -0.198017      0.114730  1.000000   \n",
              "bodylen       0.069437  -0.028147    -0.026827      0.114989  0.091724   \n",
              "titlelen      0.069875  -0.015334     0.023343      0.009430  0.017260   \n",
              "\n",
              "               bodylen  titlelen  \n",
              "Id            0.069437  0.069875  \n",
              "ViewCount    -0.028147 -0.015334  \n",
              "OwnerUserId  -0.026827  0.023343  \n",
              "CommentCount  0.114989  0.009430  \n",
              "y             0.091724  0.017260  \n",
              "bodylen       1.000000  0.098291  \n",
              "titlelen      0.098291  1.000000  "
            ],
            "text/html": [
              "\n",
              "  <div id=\"df-4afdccdb-38d3-4a8e-8cac-b924174d2631\">\n",
              "    <div class=\"colab-df-container\">\n",
              "      <div>\n",
              "<style scoped>\n",
              "    .dataframe tbody tr th:only-of-type {\n",
              "        vertical-align: middle;\n",
              "    }\n",
              "\n",
              "    .dataframe tbody tr th {\n",
              "        vertical-align: top;\n",
              "    }\n",
              "\n",
              "    .dataframe thead th {\n",
              "        text-align: right;\n",
              "    }\n",
              "</style>\n",
              "<table border=\"1\" class=\"dataframe\">\n",
              "  <thead>\n",
              "    <tr style=\"text-align: right;\">\n",
              "      <th></th>\n",
              "      <th>Id</th>\n",
              "      <th>ViewCount</th>\n",
              "      <th>OwnerUserId</th>\n",
              "      <th>CommentCount</th>\n",
              "      <th>y</th>\n",
              "      <th>bodylen</th>\n",
              "      <th>titlelen</th>\n",
              "    </tr>\n",
              "  </thead>\n",
              "  <tbody>\n",
              "    <tr>\n",
              "      <th>Id</th>\n",
              "      <td>1.000000</td>\n",
              "      <td>-0.175618</td>\n",
              "      <td>0.806359</td>\n",
              "      <td>-0.020936</td>\n",
              "      <td>-0.201148</td>\n",
              "      <td>0.069437</td>\n",
              "      <td>0.069875</td>\n",
              "    </tr>\n",
              "    <tr>\n",
              "      <th>ViewCount</th>\n",
              "      <td>-0.175618</td>\n",
              "      <td>1.000000</td>\n",
              "      <td>-0.134675</td>\n",
              "      <td>0.027796</td>\n",
              "      <td>0.192676</td>\n",
              "      <td>-0.028147</td>\n",
              "      <td>-0.015334</td>\n",
              "    </tr>\n",
              "    <tr>\n",
              "      <th>OwnerUserId</th>\n",
              "      <td>0.806359</td>\n",
              "      <td>-0.134675</td>\n",
              "      <td>1.000000</td>\n",
              "      <td>-0.026232</td>\n",
              "      <td>-0.198017</td>\n",
              "      <td>-0.026827</td>\n",
              "      <td>0.023343</td>\n",
              "    </tr>\n",
              "    <tr>\n",
              "      <th>CommentCount</th>\n",
              "      <td>-0.020936</td>\n",
              "      <td>0.027796</td>\n",
              "      <td>-0.026232</td>\n",
              "      <td>1.000000</td>\n",
              "      <td>0.114730</td>\n",
              "      <td>0.114989</td>\n",
              "      <td>0.009430</td>\n",
              "    </tr>\n",
              "    <tr>\n",
              "      <th>y</th>\n",
              "      <td>-0.201148</td>\n",
              "      <td>0.192676</td>\n",
              "      <td>-0.198017</td>\n",
              "      <td>0.114730</td>\n",
              "      <td>1.000000</td>\n",
              "      <td>0.091724</td>\n",
              "      <td>0.017260</td>\n",
              "    </tr>\n",
              "    <tr>\n",
              "      <th>bodylen</th>\n",
              "      <td>0.069437</td>\n",
              "      <td>-0.028147</td>\n",
              "      <td>-0.026827</td>\n",
              "      <td>0.114989</td>\n",
              "      <td>0.091724</td>\n",
              "      <td>1.000000</td>\n",
              "      <td>0.098291</td>\n",
              "    </tr>\n",
              "    <tr>\n",
              "      <th>titlelen</th>\n",
              "      <td>0.069875</td>\n",
              "      <td>-0.015334</td>\n",
              "      <td>0.023343</td>\n",
              "      <td>0.009430</td>\n",
              "      <td>0.017260</td>\n",
              "      <td>0.098291</td>\n",
              "      <td>1.000000</td>\n",
              "    </tr>\n",
              "  </tbody>\n",
              "</table>\n",
              "</div>\n",
              "      <button class=\"colab-df-convert\" onclick=\"convertToInteractive('df-4afdccdb-38d3-4a8e-8cac-b924174d2631')\"\n",
              "              title=\"Convert this dataframe to an interactive table.\"\n",
              "              style=\"display:none;\">\n",
              "        \n",
              "  <svg xmlns=\"http://www.w3.org/2000/svg\" height=\"24px\"viewBox=\"0 0 24 24\"\n",
              "       width=\"24px\">\n",
              "    <path d=\"M0 0h24v24H0V0z\" fill=\"none\"/>\n",
              "    <path d=\"M18.56 5.44l.94 2.06.94-2.06 2.06-.94-2.06-.94-.94-2.06-.94 2.06-2.06.94zm-11 1L8.5 8.5l.94-2.06 2.06-.94-2.06-.94L8.5 2.5l-.94 2.06-2.06.94zm10 10l.94 2.06.94-2.06 2.06-.94-2.06-.94-.94-2.06-.94 2.06-2.06.94z\"/><path d=\"M17.41 7.96l-1.37-1.37c-.4-.4-.92-.59-1.43-.59-.52 0-1.04.2-1.43.59L10.3 9.45l-7.72 7.72c-.78.78-.78 2.05 0 2.83L4 21.41c.39.39.9.59 1.41.59.51 0 1.02-.2 1.41-.59l7.78-7.78 2.81-2.81c.8-.78.8-2.07 0-2.86zM5.41 20L4 18.59l7.72-7.72 1.47 1.35L5.41 20z\"/>\n",
              "  </svg>\n",
              "      </button>\n",
              "      \n",
              "  <style>\n",
              "    .colab-df-container {\n",
              "      display:flex;\n",
              "      flex-wrap:wrap;\n",
              "      gap: 12px;\n",
              "    }\n",
              "\n",
              "    .colab-df-convert {\n",
              "      background-color: #E8F0FE;\n",
              "      border: none;\n",
              "      border-radius: 50%;\n",
              "      cursor: pointer;\n",
              "      display: none;\n",
              "      fill: #1967D2;\n",
              "      height: 32px;\n",
              "      padding: 0 0 0 0;\n",
              "      width: 32px;\n",
              "    }\n",
              "\n",
              "    .colab-df-convert:hover {\n",
              "      background-color: #E2EBFA;\n",
              "      box-shadow: 0px 1px 2px rgba(60, 64, 67, 0.3), 0px 1px 3px 1px rgba(60, 64, 67, 0.15);\n",
              "      fill: #174EA6;\n",
              "    }\n",
              "\n",
              "    [theme=dark] .colab-df-convert {\n",
              "      background-color: #3B4455;\n",
              "      fill: #D2E3FC;\n",
              "    }\n",
              "\n",
              "    [theme=dark] .colab-df-convert:hover {\n",
              "      background-color: #434B5C;\n",
              "      box-shadow: 0px 1px 3px 1px rgba(0, 0, 0, 0.15);\n",
              "      filter: drop-shadow(0px 1px 2px rgba(0, 0, 0, 0.3));\n",
              "      fill: #FFFFFF;\n",
              "    }\n",
              "  </style>\n",
              "\n",
              "      <script>\n",
              "        const buttonEl =\n",
              "          document.querySelector('#df-4afdccdb-38d3-4a8e-8cac-b924174d2631 button.colab-df-convert');\n",
              "        buttonEl.style.display =\n",
              "          google.colab.kernel.accessAllowed ? 'block' : 'none';\n",
              "\n",
              "        async function convertToInteractive(key) {\n",
              "          const element = document.querySelector('#df-4afdccdb-38d3-4a8e-8cac-b924174d2631');\n",
              "          const dataTable =\n",
              "            await google.colab.kernel.invokeFunction('convertToInteractive',\n",
              "                                                     [key], {});\n",
              "          if (!dataTable) return;\n",
              "\n",
              "          const docLinkHtml = 'Like what you see? Visit the ' +\n",
              "            '<a target=\"_blank\" href=https://colab.research.google.com/notebooks/data_table.ipynb>data table notebook</a>'\n",
              "            + ' to learn more about interactive tables.';\n",
              "          element.innerHTML = '';\n",
              "          dataTable['output_type'] = 'display_data';\n",
              "          await google.colab.output.renderOutput(dataTable, element);\n",
              "          const docLink = document.createElement('div');\n",
              "          docLink.innerHTML = docLinkHtml;\n",
              "          element.appendChild(docLink);\n",
              "        }\n",
              "      </script>\n",
              "    </div>\n",
              "  </div>\n",
              "  "
            ]
          },
          "metadata": {},
          "execution_count": 39
        }
      ]
    },
    {
      "cell_type": "code",
      "source": [
        "df2.plot(x='OwnerUserId', y='y', style='o')\n",
        "# plt.title('Hours vs Percentage')\n",
        "# plt.xlabel('Hours Studied')\n",
        "# plt.ylabel('Percentage Score')\n",
        "plt.show()"
      ],
      "metadata": {
        "colab": {
          "base_uri": "https://localhost:8080/",
          "height": 279
        },
        "id": "ImPkb5J_U20-",
        "outputId": "d269ec45-4f8f-4b77-a092-ffa279924a63"
      },
      "execution_count": null,
      "outputs": [
        {
          "output_type": "display_data",
          "data": {
            "text/plain": [
              "<Figure size 432x288 with 1 Axes>"
            ],
            "image/png": "[encoded data removed]"
          },
          "metadata": {
            "needs_background": "light"
          }
        }
      ]
    },
    {
      "cell_type": "code",
      "source": [],
      "metadata": {
        "id": "H4hlYY7FZ7oz"
      },
      "execution_count": null,
      "outputs": []
    },
    {
      "cell_type": "code",
      "source": [
        "import pandas as pd\n",
        "from sklearn import metrics\n",
        "from sklearn.model_selection import train_test_split\n",
        "from sklearn.metrics import recall_score\n",
        "from sklearn.metrics import classification_report\n",
        "from sklearn.metrics import confusion_matrix\n",
        "from sklearn.tree import DecisionTreeClassifier\n",
        "from imblearn.combine import SMOTEENN\n",
        "from sklearn.metrics import roc_auc_score\n",
        "from sklearn.ensemble import RandomForestClassifier\n"
      ],
      "metadata": {
        "id": "FB2q34JsZL9K"
      },
      "execution_count": null,
      "outputs": []
    },
    {
      "cell_type": "code",
      "source": [
        "df2=df2.drop('Id',axis=1)\n"
      ],
      "metadata": {
        "id": "vEU0nqYXbL79"
      },
      "execution_count": null,
      "outputs": []
    },
    {
      "cell_type": "code",
      "source": [
        "df2.head()"
      ],
      "metadata": {
        "colab": {
          "base_uri": "https://localhost:8080/",
          "height": 206
        },
        "id": "oDJdngAubCuD",
        "outputId": "a499546e-9183-42b4-9a22-1e85f71c39d0"
      },
      "execution_count": null,
      "outputs": [
        {
          "output_type": "execute_result",
          "data": {
            "text/plain": [
              "   ViewCount  OwnerUserId                                               Tags  \\\n",
              "0      13803          7.0  <quantum-mechanics><particle-physics><angular-...   \n",
              "1       2641         23.0                         <string-theory><education>   \n",
              "2       2412         40.0  <particle-physics><group-theory><representatio...   \n",
              "3       2033         23.0  <quantum-mechanics><quantum-interpretations><h...   \n",
              "4       9277         48.0  <lagrangian-formalism><variational-principle><...   \n",
              "\n",
              "   CommentCount  y  bodylen  titlelen  \n",
              "0             5  3      248        50  \n",
              "1             4  3      170        55  \n",
              "2             5  3      808        48  \n",
              "3             5  3      135        34  \n",
              "4             2  3      257        20  "
            ],
            "text/html": [
              "\n",
              "  <div id=\"df-64a0a9cb-7dce-498e-a461-3c8762cdc2cb\">\n",
              "    <div class=\"colab-df-container\">\n",
              "      <div>\n",
              "<style scoped>\n",
              "    .dataframe tbody tr th:only-of-type {\n",
              "        vertical-align: middle;\n",
              "    }\n",
              "\n",
              "    .dataframe tbody tr th {\n",
              "        vertical-align: top;\n",
              "    }\n",
              "\n",
              "    .dataframe thead th {\n",
              "        text-align: right;\n",
              "    }\n",
              "</style>\n",
              "<table border=\"1\" class=\"dataframe\">\n",
              "  <thead>\n",
              "    <tr style=\"text-align: right;\">\n",
              "      <th></th>\n",
              "      <th>ViewCount</th>\n",
              "      <th>OwnerUserId</th>\n",
              "      <th>Tags</th>\n",
              "      <th>CommentCount</th>\n",
              "      <th>y</th>\n",
              "      <th>bodylen</th>\n",
              "      <th>titlelen</th>\n",
              "    </tr>\n",
              "  </thead>\n",
              "  <tbody>\n",
              "    <tr>\n",
              "      <th>0</th>\n",
              "      <td>13803</td>\n",
              "      <td>7.0</td>\n",
              "      <td>&lt;quantum-mechanics&gt;&lt;particle-physics&gt;&lt;angular-...</td>\n",
              "      <td>5</td>\n",
              "      <td>3</td>\n",
              "      <td>248</td>\n",
              "      <td>50</td>\n",
              "    </tr>\n",
              "    <tr>\n",
              "      <th>1</th>\n",
              "      <td>2641</td>\n",
              "      <td>23.0</td>\n",
              "      <td>&lt;string-theory&gt;&lt;education&gt;</td>\n",
              "      <td>4</td>\n",
              "      <td>3</td>\n",
              "      <td>170</td>\n",
              "      <td>55</td>\n",
              "    </tr>\n",
              "    <tr>\n",
              "      <th>2</th>\n",
              "      <td>2412</td>\n",
              "      <td>40.0</td>\n",
              "      <td>&lt;particle-physics&gt;&lt;group-theory&gt;&lt;representatio...</td>\n",
              "      <td>5</td>\n",
              "      <td>3</td>\n",
              "      <td>808</td>\n",
              "      <td>48</td>\n",
              "    </tr>\n",
              "    <tr>\n",
              "      <th>3</th>\n",
              "      <td>2033</td>\n",
              "      <td>23.0</td>\n",
              "      <td>&lt;quantum-mechanics&gt;&lt;quantum-interpretations&gt;&lt;h...</td>\n",
              "      <td>5</td>\n",
              "      <td>3</td>\n",
              "      <td>135</td>\n",
              "      <td>34</td>\n",
              "    </tr>\n",
              "    <tr>\n",
              "      <th>4</th>\n",
              "      <td>9277</td>\n",
              "      <td>48.0</td>\n",
              "      <td>&lt;lagrangian-formalism&gt;&lt;variational-principle&gt;&lt;...</td>\n",
              "      <td>2</td>\n",
              "      <td>3</td>\n",
              "      <td>257</td>\n",
              "      <td>20</td>\n",
              "    </tr>\n",
              "  </tbody>\n",
              "</table>\n",
              "</div>\n",
              "      <button class=\"colab-df-convert\" onclick=\"convertToInteractive('df-64a0a9cb-7dce-498e-a461-3c8762cdc2cb')\"\n",
              "              title=\"Convert this dataframe to an interactive table.\"\n",
              "              style=\"display:none;\">\n",
              "        \n",
              "  <svg xmlns=\"http://www.w3.org/2000/svg\" height=\"24px\"viewBox=\"0 0 24 24\"\n",
              "       width=\"24px\">\n",
              "    <path d=\"M0 0h24v24H0V0z\" fill=\"none\"/>\n",
              "    <path d=\"M18.56 5.44l.94 2.06.94-2.06 2.06-.94-2.06-.94-.94-2.06-.94 2.06-2.06.94zm-11 1L8.5 8.5l.94-2.06 2.06-.94-2.06-.94L8.5 2.5l-.94 2.06-2.06.94zm10 10l.94 2.06.94-2.06 2.06-.94-2.06-.94-.94-2.06-.94 2.06-2.06.94z\"/><path d=\"M17.41 7.96l-1.37-1.37c-.4-.4-.92-.59-1.43-.59-.52 0-1.04.2-1.43.59L10.3 9.45l-7.72 7.72c-.78.78-.78 2.05 0 2.83L4 21.41c.39.39.9.59 1.41.59.51 0 1.02-.2 1.41-.59l7.78-7.78 2.81-2.81c.8-.78.8-2.07 0-2.86zM5.41 20L4 18.59l7.72-7.72 1.47 1.35L5.41 20z\"/>\n",
              "  </svg>\n",
              "      </button>\n",
              "      \n",
              "  <style>\n",
              "    .colab-df-container {\n",
              "      display:flex;\n",
              "      flex-wrap:wrap;\n",
              "      gap: 12px;\n",
              "    }\n",
              "\n",
              "    .colab-df-convert {\n",
              "      background-color: #E8F0FE;\n",
              "      border: none;\n",
              "      border-radius: 50%;\n",
              "      cursor: pointer;\n",
              "      display: none;\n",
              "      fill: #1967D2;\n",
              "      height: 32px;\n",
              "      padding: 0 0 0 0;\n",
              "      width: 32px;\n",
              "    }\n",
              "\n",
              "    .colab-df-convert:hover {\n",
              "      background-color: #E2EBFA;\n",
              "      box-shadow: 0px 1px 2px rgba(60, 64, 67, 0.3), 0px 1px 3px 1px rgba(60, 64, 67, 0.15);\n",
              "      fill: #174EA6;\n",
              "    }\n",
              "\n",
              "    [theme=dark] .colab-df-convert {\n",
              "      background-color: #3B4455;\n",
              "      fill: #D2E3FC;\n",
              "    }\n",
              "\n",
              "    [theme=dark] .colab-df-convert:hover {\n",
              "      background-color: #434B5C;\n",
              "      box-shadow: 0px 1px 3px 1px rgba(0, 0, 0, 0.15);\n",
              "      filter: drop-shadow(0px 1px 2px rgba(0, 0, 0, 0.3));\n",
              "      fill: #FFFFFF;\n",
              "    }\n",
              "  </style>\n",
              "\n",
              "      <script>\n",
              "        const buttonEl =\n",
              "          document.querySelector('#df-64a0a9cb-7dce-498e-a461-3c8762cdc2cb button.colab-df-convert');\n",
              "        buttonEl.style.display =\n",
              "          google.colab.kernel.accessAllowed ? 'block' : 'none';\n",
              "\n",
              "        async function convertToInteractive(key) {\n",
              "          const element = document.querySelector('#df-64a0a9cb-7dce-498e-a461-3c8762cdc2cb');\n",
              "          const dataTable =\n",
              "            await google.colab.kernel.invokeFunction('convertToInteractive',\n",
              "                                                     [key], {});\n",
              "          if (!dataTable) return;\n",
              "\n",
              "          const docLinkHtml = 'Like what you see? Visit the ' +\n",
              "            '<a target=\"_blank\" href=https://colab.research.google.com/notebooks/data_table.ipynb>data table notebook</a>'\n",
              "            + ' to learn more about interactive tables.';\n",
              "          element.innerHTML = '';\n",
              "          dataTable['output_type'] = 'display_data';\n",
              "          await google.colab.output.renderOutput(dataTable, element);\n",
              "          const docLink = document.createElement('div');\n",
              "          docLink.innerHTML = docLinkHtml;\n",
              "          element.appendChild(docLink);\n",
              "        }\n",
              "      </script>\n",
              "    </div>\n",
              "  </div>\n",
              "  "
            ]
          },
          "metadata": {},
          "execution_count": 27
        }
      ]
    },
    {
      "cell_type": "code",
      "source": [
        "y=df2['y']\n",
        "x= df2.drop('y',axis=1)\n",
        "\n"
      ],
      "metadata": {
        "id": "Y7syIFs3br-O"
      },
      "execution_count": null,
      "outputs": []
    },
    {
      "cell_type": "code",
      "source": [
        "x"
      ],
      "metadata": {
        "colab": {
          "base_uri": "https://localhost:8080/",
          "height": 423
        },
        "id": "veKhZUv9iH7G",
        "outputId": "78acb0a1-5a6d-44bd-9e2d-f7ecbd0904e7"
      },
      "execution_count": null,
      "outputs": [
        {
          "output_type": "execute_result",
          "data": {
            "text/plain": [
              "        ViewCount  OwnerUserId  CommentCount  bodylen  titlelen\n",
              "0           13803          7.0             5      248        50\n",
              "1            2641         23.0             4      170        55\n",
              "2            2412         40.0             5      808        48\n",
              "3            2033         23.0             5      135        34\n",
              "4            9277         48.0             2      257        20\n",
              "...           ...          ...           ...      ...       ...\n",
              "138705         10     220348.0             0     2156        34\n",
              "138706          9       3234.0             0     2063        73\n",
              "138707          5     233050.0             0      583        31\n",
              "138708          8     233523.0             2      641        86\n",
              "138709          5     233524.0             1      612       112\n",
              "\n",
              "[134362 rows x 5 columns]"
            ],
            "text/html": [
              "\n",
              "  <div id=\"df-2a5e2f8a-20f6-4cdb-bb59-4569a0ea43e3\">\n",
              "    <div class=\"colab-df-container\">\n",
              "      <div>\n",
              "<style scoped>\n",
              "    .dataframe tbody tr th:only-of-type {\n",
              "        vertical-align: middle;\n",
              "    }\n",
              "\n",
              "    .dataframe tbody tr th {\n",
              "        vertical-align: top;\n",
              "    }\n",
              "\n",
              "    .dataframe thead th {\n",
              "        text-align: right;\n",
              "    }\n",
              "</style>\n",
              "<table border=\"1\" class=\"dataframe\">\n",
              "  <thead>\n",
              "    <tr style=\"text-align: right;\">\n",
              "      <th></th>\n",
              "      <th>ViewCount</th>\n",
              "      <th>OwnerUserId</th>\n",
              "      <th>CommentCount</th>\n",
              "      <th>bodylen</th>\n",
              "      <th>titlelen</th>\n",
              "    </tr>\n",
              "  </thead>\n",
              "  <tbody>\n",
              "    <tr>\n",
              "      <th>0</th>\n",
              "      <td>13803</td>\n",
              "      <td>7.0</td>\n",
              "      <td>5</td>\n",
              "      <td>248</td>\n",
              "      <td>50</td>\n",
              "    </tr>\n",
              "    <tr>\n",
              "      <th>1</th>\n",
              "      <td>2641</td>\n",
              "      <td>23.0</td>\n",
              "      <td>4</td>\n",
              "      <td>170</td>\n",
              "      <td>55</td>\n",
              "    </tr>\n",
              "    <tr>\n",
              "      <th>2</th>\n",
              "      <td>2412</td>\n",
              "      <td>40.0</td>\n",
              "      <td>5</td>\n",
              "      <td>808</td>\n",
              "      <td>48</td>\n",
              "    </tr>\n",
              "    <tr>\n",
              "      <th>3</th>\n",
              "      <td>2033</td>\n",
              "      <td>23.0</td>\n",
              "      <td>5</td>\n",
              "      <td>135</td>\n",
              "      <td>34</td>\n",
              "    </tr>\n",
              "    <tr>\n",
              "      <th>4</th>\n",
              "      <td>9277</td>\n",
              "      <td>48.0</td>\n",
              "      <td>2</td>\n",
              "      <td>257</td>\n",
              "      <td>20</td>\n",
              "    </tr>\n",
              "    <tr>\n",
              "      <th>...</th>\n",
              "      <td>...</td>\n",
              "      <td>...</td>\n",
              "      <td>...</td>\n",
              "      <td>...</td>\n",
              "      <td>...</td>\n",
              "    </tr>\n",
              "    <tr>\n",
              "      <th>138705</th>\n",
              "      <td>10</td>\n",
              "      <td>220348.0</td>\n",
              "      <td>0</td>\n",
              "      <td>2156</td>\n",
              "      <td>34</td>\n",
              "    </tr>\n",
              "    <tr>\n",
              "      <th>138706</th>\n",
              "      <td>9</td>\n",
              "      <td>3234.0</td>\n",
              "      <td>0</td>\n",
              "      <td>2063</td>\n",
              "      <td>73</td>\n",
              "    </tr>\n",
              "    <tr>\n",
              "      <th>138707</th>\n",
              "      <td>5</td>\n",
              "      <td>233050.0</td>\n",
              "      <td>0</td>\n",
              "      <td>583</td>\n",
              "      <td>31</td>\n",
              "    </tr>\n",
              "    <tr>\n",
              "      <th>138708</th>\n",
              "      <td>8</td>\n",
              "      <td>233523.0</td>\n",
              "      <td>2</td>\n",
              "      <td>641</td>\n",
              "      <td>86</td>\n",
              "    </tr>\n",
              "    <tr>\n",
              "      <th>138709</th>\n",
              "      <td>5</td>\n",
              "      <td>233524.0</td>\n",
              "      <td>1</td>\n",
              "      <td>612</td>\n",
              "      <td>112</td>\n",
              "    </tr>\n",
              "  </tbody>\n",
              "</table>\n",
              "<p>134362 rows × 5 columns</p>\n",
              "</div>\n",
              "      <button class=\"colab-df-convert\" onclick=\"convertToInteractive('df-2a5e2f8a-20f6-4cdb-bb59-4569a0ea43e3')\"\n",
              "              title=\"Convert this dataframe to an interactive table.\"\n",
              "              style=\"display:none;\">\n",
              "        \n",
              "  <svg xmlns=\"http://www.w3.org/2000/svg\" height=\"24px\"viewBox=\"0 0 24 24\"\n",
              "       width=\"24px\">\n",
              "    <path d=\"M0 0h24v24H0V0z\" fill=\"none\"/>\n",
              "    <path d=\"M18.56 5.44l.94 2.06.94-2.06 2.06-.94-2.06-.94-.94-2.06-.94 2.06-2.06.94zm-11 1L8.5 8.5l.94-2.06 2.06-.94-2.06-.94L8.5 2.5l-.94 2.06-2.06.94zm10 10l.94 2.06.94-2.06 2.06-.94-2.06-.94-.94-2.06-.94 2.06-2.06.94z\"/><path d=\"M17.41 7.96l-1.37-1.37c-.4-.4-.92-.59-1.43-.59-.52 0-1.04.2-1.43.59L10.3 9.45l-7.72 7.72c-.78.78-.78 2.05 0 2.83L4 21.41c.39.39.9.59 1.41.59.51 0 1.02-.2 1.41-.59l7.78-7.78 2.81-2.81c.8-.78.8-2.07 0-2.86zM5.41 20L4 18.59l7.72-7.72 1.47 1.35L5.41 20z\"/>\n",
              "  </svg>\n",
              "      </button>\n",
              "      \n",
              "  <style>\n",
              "    .colab-df-container {\n",
              "      display:flex;\n",
              "      flex-wrap:wrap;\n",
              "      gap: 12px;\n",
              "    }\n",
              "\n",
              "    .colab-df-convert {\n",
              "      background-color: #E8F0FE;\n",
              "      border: none;\n",
              "      border-radius: 50%;\n",
              "      cursor: pointer;\n",
              "      display: none;\n",
              "      fill: #1967D2;\n",
              "      height: 32px;\n",
              "      padding: 0 0 0 0;\n",
              "      width: 32px;\n",
              "    }\n",
              "\n",
              "    .colab-df-convert:hover {\n",
              "      background-color: #E2EBFA;\n",
              "      box-shadow: 0px 1px 2px rgba(60, 64, 67, 0.3), 0px 1px 3px 1px rgba(60, 64, 67, 0.15);\n",
              "      fill: #174EA6;\n",
              "    }\n",
              "\n",
              "    [theme=dark] .colab-df-convert {\n",
              "      background-color: #3B4455;\n",
              "      fill: #D2E3FC;\n",
              "    }\n",
              "\n",
              "    [theme=dark] .colab-df-convert:hover {\n",
              "      background-color: #434B5C;\n",
              "      box-shadow: 0px 1px 3px 1px rgba(0, 0, 0, 0.15);\n",
              "      filter: drop-shadow(0px 1px 2px rgba(0, 0, 0, 0.3));\n",
              "      fill: #FFFFFF;\n",
              "    }\n",
              "  </style>\n",
              "\n",
              "      <script>\n",
              "        const buttonEl =\n",
              "          document.querySelector('#df-2a5e2f8a-20f6-4cdb-bb59-4569a0ea43e3 button.colab-df-convert');\n",
              "        buttonEl.style.display =\n",
              "          google.colab.kernel.accessAllowed ? 'block' : 'none';\n",
              "\n",
              "        async function convertToInteractive(key) {\n",
              "          const element = document.querySelector('#df-2a5e2f8a-20f6-4cdb-bb59-4569a0ea43e3');\n",
              "          const dataTable =\n",
              "            await google.colab.kernel.invokeFunction('convertToInteractive',\n",
              "                                                     [key], {});\n",
              "          if (!dataTable) return;\n",
              "\n",
              "          const docLinkHtml = 'Like what you see? Visit the ' +\n",
              "            '<a target=\"_blank\" href=https://colab.research.google.com/notebooks/data_table.ipynb>data table notebook</a>'\n",
              "            + ' to learn more about interactive tables.';\n",
              "          element.innerHTML = '';\n",
              "          dataTable['output_type'] = 'display_data';\n",
              "          await google.colab.output.renderOutput(dataTable, element);\n",
              "          const docLink = document.createElement('div');\n",
              "          docLink.innerHTML = docLinkHtml;\n",
              "          element.appendChild(docLink);\n",
              "        }\n",
              "      </script>\n",
              "    </div>\n",
              "  </div>\n",
              "  "
            ]
          },
          "metadata": {},
          "execution_count": 45
        }
      ]
    },
    {
      "cell_type": "code",
      "source": [
        "df2['taglen']=1"
      ],
      "metadata": {
        "id": "k30LyiQFxxEz"
      },
      "execution_count": null,
      "outputs": []
    },
    {
      "cell_type": "code",
      "source": [
        "for x in df2.index:\n",
        "  df2.loc[x, \"taglen\"] = len(df2.loc[x, \"Tags\"]) "
      ],
      "metadata": {
        "id": "rKTfRuoAxv_x"
      },
      "execution_count": null,
      "outputs": []
    },
    {
      "cell_type": "code",
      "source": [
        "df2=df2.drop('Tags',axis=1)\n"
      ],
      "metadata": {
        "id": "iGz_-mec0YuF"
      },
      "execution_count": null,
      "outputs": []
    },
    {
      "cell_type": "code",
      "source": [
        "df2.head()"
      ],
      "metadata": {
        "colab": {
          "base_uri": "https://localhost:8080/",
          "height": 206
        },
        "id": "9IzVyClt0Npu",
        "outputId": "0630f5e0-f29b-4d46-bf8c-edf75f960a99"
      },
      "execution_count": null,
      "outputs": [
        {
          "output_type": "execute_result",
          "data": {
            "text/plain": [
              "   ViewCount  OwnerUserId  CommentCount  y  bodylen  titlelen  taglen\n",
              "0      13803          7.0             5  3      248        50      69\n",
              "1       2641         23.0             4  3      170        55      26\n",
              "2       2412         40.0             5  3      808        48      55\n",
              "3       2033         23.0             5  3      135        34      91\n",
              "4       9277         48.0             2  3      257        20      53"
            ],
            "text/html": [
              "\n",
              "  <div id=\"df-463a89b3-fb45-4d9e-ac67-b0d0818b74c6\">\n",
              "    <div class=\"colab-df-container\">\n",
              "      <div>\n",
              "<style scoped>\n",
              "    .dataframe tbody tr th:only-of-type {\n",
              "        vertical-align: middle;\n",
              "    }\n",
              "\n",
              "    .dataframe tbody tr th {\n",
              "        vertical-align: top;\n",
              "    }\n",
              "\n",
              "    .dataframe thead th {\n",
              "        text-align: right;\n",
              "    }\n",
              "</style>\n",
              "<table border=\"1\" class=\"dataframe\">\n",
              "  <thead>\n",
              "    <tr style=\"text-align: right;\">\n",
              "      <th></th>\n",
              "      <th>ViewCount</th>\n",
              "      <th>OwnerUserId</th>\n",
              "      <th>CommentCount</th>\n",
              "      <th>y</th>\n",
              "      <th>bodylen</th>\n",
              "      <th>titlelen</th>\n",
              "      <th>taglen</th>\n",
              "    </tr>\n",
              "  </thead>\n",
              "  <tbody>\n",
              "    <tr>\n",
              "      <th>0</th>\n",
              "      <td>13803</td>\n",
              "      <td>7.0</td>\n",
              "      <td>5</td>\n",
              "      <td>3</td>\n",
              "      <td>248</td>\n",
              "      <td>50</td>\n",
              "      <td>69</td>\n",
              "    </tr>\n",
              "    <tr>\n",
              "      <th>1</th>\n",
              "      <td>2641</td>\n",
              "      <td>23.0</td>\n",
              "      <td>4</td>\n",
              "      <td>3</td>\n",
              "      <td>170</td>\n",
              "      <td>55</td>\n",
              "      <td>26</td>\n",
              "    </tr>\n",
              "    <tr>\n",
              "      <th>2</th>\n",
              "      <td>2412</td>\n",
              "      <td>40.0</td>\n",
              "      <td>5</td>\n",
              "      <td>3</td>\n",
              "      <td>808</td>\n",
              "      <td>48</td>\n",
              "      <td>55</td>\n",
              "    </tr>\n",
              "    <tr>\n",
              "      <th>3</th>\n",
              "      <td>2033</td>\n",
              "      <td>23.0</td>\n",
              "      <td>5</td>\n",
              "      <td>3</td>\n",
              "      <td>135</td>\n",
              "      <td>34</td>\n",
              "      <td>91</td>\n",
              "    </tr>\n",
              "    <tr>\n",
              "      <th>4</th>\n",
              "      <td>9277</td>\n",
              "      <td>48.0</td>\n",
              "      <td>2</td>\n",
              "      <td>3</td>\n",
              "      <td>257</td>\n",
              "      <td>20</td>\n",
              "      <td>53</td>\n",
              "    </tr>\n",
              "  </tbody>\n",
              "</table>\n",
              "</div>\n",
              "      <button class=\"colab-df-convert\" onclick=\"convertToInteractive('df-463a89b3-fb45-4d9e-ac67-b0d0818b74c6')\"\n",
              "              title=\"Convert this dataframe to an interactive table.\"\n",
              "              style=\"display:none;\">\n",
              "        \n",
              "  <svg xmlns=\"http://www.w3.org/2000/svg\" height=\"24px\"viewBox=\"0 0 24 24\"\n",
              "       width=\"24px\">\n",
              "    <path d=\"M0 0h24v24H0V0z\" fill=\"none\"/>\n",
              "    <path d=\"M18.56 5.44l.94 2.06.94-2.06 2.06-.94-2.06-.94-.94-2.06-.94 2.06-2.06.94zm-11 1L8.5 8.5l.94-2.06 2.06-.94-2.06-.94L8.5 2.5l-.94 2.06-2.06.94zm10 10l.94 2.06.94-2.06 2.06-.94-2.06-.94-.94-2.06-.94 2.06-2.06.94z\"/><path d=\"M17.41 7.96l-1.37-1.37c-.4-.4-.92-.59-1.43-.59-.52 0-1.04.2-1.43.59L10.3 9.45l-7.72 7.72c-.78.78-.78 2.05 0 2.83L4 21.41c.39.39.9.59 1.41.59.51 0 1.02-.2 1.41-.59l7.78-7.78 2.81-2.81c.8-.78.8-2.07 0-2.86zM5.41 20L4 18.59l7.72-7.72 1.47 1.35L5.41 20z\"/>\n",
              "  </svg>\n",
              "      </button>\n",
              "      \n",
              "  <style>\n",
              "    .colab-df-container {\n",
              "      display:flex;\n",
              "      flex-wrap:wrap;\n",
              "      gap: 12px;\n",
              "    }\n",
              "\n",
              "    .colab-df-convert {\n",
              "      background-color: #E8F0FE;\n",
              "      border: none;\n",
              "      border-radius: 50%;\n",
              "      cursor: pointer;\n",
              "      display: none;\n",
              "      fill: #1967D2;\n",
              "      height: 32px;\n",
              "      padding: 0 0 0 0;\n",
              "      width: 32px;\n",
              "    }\n",
              "\n",
              "    .colab-df-convert:hover {\n",
              "      background-color: #E2EBFA;\n",
              "      box-shadow: 0px 1px 2px rgba(60, 64, 67, 0.3), 0px 1px 3px 1px rgba(60, 64, 67, 0.15);\n",
              "      fill: #174EA6;\n",
              "    }\n",
              "\n",
              "    [theme=dark] .colab-df-convert {\n",
              "      background-color: #3B4455;\n",
              "      fill: #D2E3FC;\n",
              "    }\n",
              "\n",
              "    [theme=dark] .colab-df-convert:hover {\n",
              "      background-color: #434B5C;\n",
              "      box-shadow: 0px 1px 3px 1px rgba(0, 0, 0, 0.15);\n",
              "      filter: drop-shadow(0px 1px 2px rgba(0, 0, 0, 0.3));\n",
              "      fill: #FFFFFF;\n",
              "    }\n",
              "  </style>\n",
              "\n",
              "      <script>\n",
              "        const buttonEl =\n",
              "          document.querySelector('#df-463a89b3-fb45-4d9e-ac67-b0d0818b74c6 button.colab-df-convert');\n",
              "        buttonEl.style.display =\n",
              "          google.colab.kernel.accessAllowed ? 'block' : 'none';\n",
              "\n",
              "        async function convertToInteractive(key) {\n",
              "          const element = document.querySelector('#df-463a89b3-fb45-4d9e-ac67-b0d0818b74c6');\n",
              "          const dataTable =\n",
              "            await google.colab.kernel.invokeFunction('convertToInteractive',\n",
              "                                                     [key], {});\n",
              "          if (!dataTable) return;\n",
              "\n",
              "          const docLinkHtml = 'Like what you see? Visit the ' +\n",
              "            '<a target=\"_blank\" href=https://colab.research.google.com/notebooks/data_table.ipynb>data table notebook</a>'\n",
              "            + ' to learn more about interactive tables.';\n",
              "          element.innerHTML = '';\n",
              "          dataTable['output_type'] = 'display_data';\n",
              "          await google.colab.output.renderOutput(dataTable, element);\n",
              "          const docLink = document.createElement('div');\n",
              "          docLink.innerHTML = docLinkHtml;\n",
              "          element.appendChild(docLink);\n",
              "        }\n",
              "      </script>\n",
              "    </div>\n",
              "  </div>\n",
              "  "
            ]
          },
          "metadata": {},
          "execution_count": 36
        }
      ]
    },
    {
      "cell_type": "code",
      "source": [
        "import seaborn as sns\n",
        "corr = df2.corr()\n",
        "mask = np.array(corr)\n",
        "mask[np.tril_indices_from(mask)] = False\n",
        "fig,ax= plt.subplots()\n",
        "fig.set_size_inches(20,10)\n",
        "sns.heatmap(corr, mask=mask,vmax=.9, square=True,annot=True, cmap=\"YlGnBu\")"
      ],
      "metadata": {
        "id": "s6mW5rDi0jxk",
        "outputId": "15622978-6199-4a4b-cf0c-6692918ad139",
        "colab": {
          "base_uri": "https://localhost:8080/",
          "height": 847
        }
      },
      "execution_count": null,
      "outputs": [
        {
          "output_type": "execute_result",
          "data": {
            "text/plain": [
              "<Axes: >"
            ]
          },
          "metadata": {},
          "execution_count": 37
        },
        {
          "output_type": "display_data",
          "data": {
            "text/plain": [
              "<Figure size 2000x1000 with 2 Axes>"
            ],
            "image/png": "[encoded data removed]"
          },
          "metadata": {}
        }
      ]
    },
    {
      "cell_type": "code",
      "source": [
        "x_train,x_test,y_train,y_test=train_test_split(x,y,test_size=0.2)\n"
      ],
      "metadata": {
        "id": "rGj_ciC9g5DZ"
      },
      "execution_count": null,
      "outputs": []
    },
    {
      "cell_type": "code",
      "source": [
        "smt = SMOTEENN(sampling_strategy='all')\n",
        "x_smt, y_smt = smt.fit_resample(x_train, y_train)\n"
      ],
      "metadata": {
        "id": "hZH2mtCXbiHe"
      },
      "execution_count": null,
      "outputs": []
    },
    {
      "cell_type": "code",
      "source": [
        "model=RandomForestClassifier(n_estimators=100, criterion='gini', random_state = 100,max_depth=6, min_samples_leaf=8)\n"
      ],
      "metadata": {
        "id": "5OJb6TFWcbfv"
      },
      "execution_count": null,
      "outputs": []
    },
    {
      "cell_type": "code",
      "source": [
        "model.fit(x_smt,y_smt)\n"
      ],
      "metadata": {
        "colab": {
          "base_uri": "https://localhost:8080/",
          "height": 74
        },
        "id": "thgB5qFvhEyJ",
        "outputId": "7c2e74b8-417a-4c02-ebcf-1b6d2b755eac"
      },
      "execution_count": null,
      "outputs": [
        {
          "output_type": "execute_result",
          "data": {
            "text/plain": [
              "RandomForestClassifier(max_depth=6, min_samples_leaf=8, random_state=100)"
            ],
            "text/html": [
              "<style>#sk-container-id-1 {color: black;background-color: white;}#sk-container-id-1 pre{padding: 0;}#sk-container-id-1 div.sk-toggleable {background-color: white;}#sk-container-id-1 label.sk-toggleable__label {cursor: pointer;display: block;width: 100%;margin-bottom: 0;padding: 0.3em;box-sizing: border-box;text-align: center;}#sk-container-id-1 label.sk-toggleable__label-arrow:before {content: \"▸\";float: left;margin-right: 0.25em;color: #696969;}#sk-container-id-1 label.sk-toggleable__label-arrow:hover:before {color: black;}#sk-container-id-1 div.sk-estimator:hover label.sk-toggleable__label-arrow:before {color: black;}#sk-container-id-1 div.sk-toggleable__content {max-height: 0;max-width: 0;overflow: hidden;text-align: left;background-color: #f0f8ff;}#sk-container-id-1 div.sk-toggleable__content pre {margin: 0.2em;color: black;border-radius: 0.25em;background-color: #f0f8ff;}#sk-container-id-1 input.sk-toggleable__control:checked~div.sk-toggleable__content {max-height: 200px;max-width: 100%;overflow: auto;}#sk-container-id-1 input.sk-toggleable__control:checked~label.sk-toggleable__label-arrow:before {content: \"▾\";}#sk-container-id-1 div.sk-estimator input.sk-toggleable__control:checked~label.sk-toggleable__label {background-color: #d4ebff;}#sk-container-id-1 div.sk-label input.sk-toggleable__control:checked~label.sk-toggleable__label {background-color: #d4ebff;}#sk-container-id-1 input.sk-hidden--visually {border: 0;clip: rect(1px 1px 1px 1px);clip: rect(1px, 1px, 1px, 1px);height: 1px;margin: -1px;overflow: hidden;padding: 0;position: absolute;width: 1px;}#sk-container-id-1 div.sk-estimator {font-family: monospace;background-color: #f0f8ff;border: 1px dotted black;border-radius: 0.25em;box-sizing: border-box;margin-bottom: 0.5em;}#sk-container-id-1 div.sk-estimator:hover {background-color: #d4ebff;}#sk-container-id-1 div.sk-parallel-item::after {content: \"\";width: 100%;border-bottom: 1px solid gray;flex-grow: 1;}#sk-container-id-1 div.sk-label:hover label.sk-toggleable__label {background-color: #d4ebff;}#sk-container-id-1 div.sk-serial::before {content: \"\";position: absolute;border-left: 1px solid gray;box-sizing: border-box;top: 0;bottom: 0;left: 50%;z-index: 0;}#sk-container-id-1 div.sk-serial {display: flex;flex-direction: column;align-items: center;background-color: white;padding-right: 0.2em;padding-left: 0.2em;position: relative;}#sk-container-id-1 div.sk-item {position: relative;z-index: 1;}#sk-container-id-1 div.sk-parallel {display: flex;align-items: stretch;justify-content: center;background-color: white;position: relative;}#sk-container-id-1 div.sk-item::before, #sk-container-id-1 div.sk-parallel-item::before {content: \"\";position: absolute;border-left: 1px solid gray;box-sizing: border-box;top: 0;bottom: 0;left: 50%;z-index: -1;}#sk-container-id-1 div.sk-parallel-item {display: flex;flex-direction: column;z-index: 1;position: relative;background-color: white;}#sk-container-id-1 div.sk-parallel-item:first-child::after {align-self: flex-end;width: 50%;}#sk-container-id-1 div.sk-parallel-item:last-child::after {align-self: flex-start;width: 50%;}#sk-container-id-1 div.sk-parallel-item:only-child::after {width: 0;}#sk-container-id-1 div.sk-dashed-wrapped {border: 1px dashed gray;margin: 0 0.4em 0.5em 0.4em;box-sizing: border-box;padding-bottom: 0.4em;background-color: white;}#sk-container-id-1 div.sk-label label {font-family: monospace;font-weight: bold;display: inline-block;line-height: 1.2em;}#sk-container-id-1 div.sk-label-container {text-align: center;}#sk-container-id-1 div.sk-container {/* jupyter's `normalize.less` sets `[hidden] { display: none; }` but bootstrap.min.css set `[hidden] { display: none !important; }` so we also need the `!important` here to be able to override the default hidden behavior on the sphinx rendered scikit-learn.org. See: https://github.com/scikit-learn/scikit-learn/issues/21755 */display: inline-block !important;position: relative;}#sk-container-id-1 div.sk-text-repr-fallback {display: none;}</style><div id=\"sk-container-id-1\" class=\"sk-top-container\"><div class=\"sk-text-repr-fallback\"><pre>RandomForestClassifier(max_depth=6, min_samples_leaf=8, random_state=100)</pre><b>In a Jupyter environment, please rerun this cell to show the HTML representation or trust the notebook. <br />On GitHub, the HTML representation is unable to render, please try loading this page with nbviewer.org.</b></div><div class=\"sk-container\" hidden><div class=\"sk-item\"><div class=\"sk-estimator sk-toggleable\"><input class=\"sk-toggleable__control sk-hidden--visually\" id=\"sk-estimator-id-1\" type=\"checkbox\" checked><label for=\"sk-estimator-id-1\" class=\"sk-toggleable__label sk-toggleable__label-arrow\">RandomForestClassifier</label><div class=\"sk-toggleable__content\"><pre>RandomForestClassifier(max_depth=6, min_samples_leaf=8, random_state=100)</pre></div></div></div></div></div>"
            ]
          },
          "metadata": {},
          "execution_count": 49
        }
      ]
    },
    {
      "cell_type": "code",
      "source": [
        "y_pred=model.predict(x_test)\n"
      ],
      "metadata": {
        "id": "my3gAXFedTRi"
      },
      "execution_count": null,
      "outputs": []
    },
    {
      "cell_type": "code",
      "source": [
        "y_pred"
      ],
      "metadata": {
        "colab": {
          "base_uri": "https://localhost:8080/"
        },
        "id": "2jBytHvgVpVr",
        "outputId": "55ea729e-c148-4bb1-be92-a6ac939d9b31"
      },
      "execution_count": null,
      "outputs": [
        {
          "output_type": "execute_result",
          "data": {
            "text/plain": [
              "array([1, 3, 2, ..., 3, 2, 3])"
            ]
          },
          "metadata": {},
          "execution_count": 51
        }
      ]
    },
    {
      "cell_type": "code",
      "source": [
        "from sklearn.metrics import confusion_matrix\n",
        "from matplotlib import pyplot as plt\n",
        "\n",
        "conf_mat = confusion_matrix(y_true=y_test, y_pred=y_pred)\n",
        "print('Confusion matrix:\\n', conf_mat)\n",
        "\n",
        "fig = plt.figure()\n",
        "ax = fig.add_subplot(111)\n",
        "cax = ax.matshow(conf_mat, cmap=plt.cm.Blues)\n",
        "fig.colorbar(cax)\n",
        "\n",
        "plt.xlabel('Predicted')\n",
        "plt.ylabel('Expected')\n",
        "plt.show()"
      ],
      "metadata": {
        "colab": {
          "base_uri": "https://localhost:8080/",
          "height": 352
        },
        "id": "XjwQ1YFYh4qC",
        "outputId": "e55971a1-5888-4560-ddce-7c15e1017a06"
      },
      "execution_count": null,
      "outputs": [
        {
          "output_type": "stream",
          "name": "stdout",
          "text": [
            "Confusion matrix:\n",
            " [[ 2357 11441  7285]\n",
            " [  131  2481   357]\n",
            " [   66   233  2522]]\n"
          ]
        },
        {
          "output_type": "display_data",
          "data": {
            "text/plain": [
              "<Figure size 432x288 with 2 Axes>"
            ],
            "image/png": "[encoded data removed]"
          },
          "metadata": {
            "needs_background": "light"
          }
        }
      ]
    },
    {
      "cell_type": "code",
      "source": [
        "auc = roc_auc_score(y_test, y_pred)\n",
        "auc"
      ],
      "metadata": {
        "colab": {
          "base_uri": "https://localhost:8080/",
          "height": 322
        },
        "id": "IwfJ8G50d6Pp",
        "outputId": "3d07e816-299d-42e2-9405-48c15fad68c3"
      },
      "execution_count": null,
      "outputs": [
        {
          "output_type": "error",
          "ename": "ValueError",
          "evalue": "ignored",
          "traceback": [
            "\u001b[0;31m---------------------------------------------------------------------------\u001b[0m",
            "\u001b[0;31mValueError\u001b[0m                                Traceback (most recent call last)",
            "\u001b[0;32m<ipython-input-56-d1121d6aab25>\u001b[0m in \u001b[0;36m<module>\u001b[0;34m\u001b[0m\n\u001b[0;32m----> 1\u001b[0;31m \u001b[0mauc\u001b[0m \u001b[0;34m=\u001b[0m \u001b[0mroc_auc_score\u001b[0m\u001b[0;34m(\u001b[0m\u001b[0my_test\u001b[0m\u001b[0;34m,\u001b[0m \u001b[0my_pred\u001b[0m\u001b[0;34m)\u001b[0m\u001b[0;34m\u001b[0m\u001b[0;34m\u001b[0m\u001b[0m\n\u001b[0m\u001b[1;32m      2\u001b[0m \u001b[0mauc\u001b[0m\u001b[0;34m\u001b[0m\u001b[0;34m\u001b[0m\u001b[0m\n",
            "\u001b[0;32m/usr/local/lib/python3.9/dist-packages/sklearn/metrics/_ranking.py\u001b[0m in \u001b[0;36mroc_auc_score\u001b[0;34m(y_true, y_score, average, sample_weight, max_fpr, multi_class, labels)\u001b[0m\n\u001b[1;32m    563\u001b[0m             )\n\u001b[1;32m    564\u001b[0m         \u001b[0;32mif\u001b[0m \u001b[0mmulti_class\u001b[0m \u001b[0;34m==\u001b[0m \u001b[0;34m\"raise\"\u001b[0m\u001b[0;34m:\u001b[0m\u001b[0;34m\u001b[0m\u001b[0;34m\u001b[0m\u001b[0m\n\u001b[0;32m--> 565\u001b[0;31m             \u001b[0;32mraise\u001b[0m \u001b[0mValueError\u001b[0m\u001b[0;34m(\u001b[0m\u001b[0;34m\"multi_class must be in ('ovo', 'ovr')\"\u001b[0m\u001b[0;34m)\u001b[0m\u001b[0;34m\u001b[0m\u001b[0;34m\u001b[0m\u001b[0m\n\u001b[0m\u001b[1;32m    566\u001b[0m         return _multiclass_roc_auc_score(\n\u001b[1;32m    567\u001b[0m             \u001b[0my_true\u001b[0m\u001b[0;34m,\u001b[0m \u001b[0my_score\u001b[0m\u001b[0;34m,\u001b[0m \u001b[0mlabels\u001b[0m\u001b[0;34m,\u001b[0m \u001b[0mmulti_class\u001b[0m\u001b[0;34m,\u001b[0m \u001b[0maverage\u001b[0m\u001b[0;34m,\u001b[0m \u001b[0msample_weight\u001b[0m\u001b[0;34m\u001b[0m\u001b[0;34m\u001b[0m\u001b[0m\n",
            "\u001b[0;31mValueError\u001b[0m: multi_class must be in ('ovo', 'ovr')"
          ]
        }
      ]
    },
    {
      "cell_type": "code",
      "source": [
        "feat_importances = pd.Series(model.feature_importances_, index=x.columns)\n",
        "feat_importances.nlargest(10).plot(kind='barh')\n",
        "plt.show()"
      ],
      "metadata": {
        "colab": {
          "base_uri": "https://localhost:8080/",
          "height": 265
        },
        "id": "PbRYHKfzdesk",
        "outputId": "7d2f041b-c0f0-4991-ed3d-01267cfad472"
      },
      "execution_count": null,
      "outputs": [
        {
          "output_type": "display_data",
          "data": {
            "text/plain": [
              "<Figure size 432x288 with 1 Axes>"
            ],
            "image/png": "[encoded data removed]"
          },
          "metadata": {
            "needs_background": "light"
          }
        }
      ]
    },
    {
      "cell_type": "code",
      "source": [
        "from sklearn.metrics import accuracy_score\n",
        "# Calculating the accuracy of classifier\n",
        "print(f\"Accuracy of the classifier is: {accuracy_score(y_test, y_pred)}\")"
      ],
      "metadata": {
        "colab": {
          "base_uri": "https://localhost:8080/"
        },
        "id": "-n0rltVCV-5d",
        "outputId": "3fd6959e-6079-4745-fcee-40a387bcbc3e"
      },
      "execution_count": null,
      "outputs": [
        {
          "output_type": "stream",
          "name": "stdout",
          "text": [
            "Accuracy of the classifier is: 0.2738808469467495\n"
          ]
        }
      ]
    }
  ]
}